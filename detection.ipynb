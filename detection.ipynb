{
 "cells": [
  {
   "cell_type": "code",
   "execution_count": 1,
   "metadata": {},
   "outputs": [
    {
     "name": "stderr",
     "output_type": "stream",
     "text": [
      "2024-04-02 21:32:45.752975: E external/local_xla/xla/stream_executor/cuda/cuda_dnn.cc:9261] Unable to register cuDNN factory: Attempting to register factory for plugin cuDNN when one has already been registered\n",
      "2024-04-02 21:32:45.753170: E external/local_xla/xla/stream_executor/cuda/cuda_fft.cc:607] Unable to register cuFFT factory: Attempting to register factory for plugin cuFFT when one has already been registered\n",
      "2024-04-02 21:32:46.006018: E external/local_xla/xla/stream_executor/cuda/cuda_blas.cc:1515] Unable to register cuBLAS factory: Attempting to register factory for plugin cuBLAS when one has already been registered\n",
      "2024-04-02 21:32:46.767022: I tensorflow/core/platform/cpu_feature_guard.cc:182] This TensorFlow binary is optimized to use available CPU instructions in performance-critical operations.\n",
      "To enable the following instructions: AVX2 FMA, in other operations, rebuild TensorFlow with the appropriate compiler flags.\n",
      "2024-04-02 21:32:53.030679: W tensorflow/compiler/tf2tensorrt/utils/py_utils.cc:38] TF-TRT Warning: Could not find TensorRT\n"
     ]
    }
   ],
   "source": [
    "import numpy as np\n",
    "import pandas as pd\n",
    "import matplotlib.pyplot as plt\n",
    "import wfdb\n",
    "import ast\n",
    "\n",
    "import tensorflow as tf\n",
    "from keras.models import Sequential\n",
    "from keras.layers import Conv1D, MaxPooling1D, Flatten, Dense, Dropout, GlobalAveragePooling1D\n",
    "from keras.optimizers import Adam\n",
    "from keras.layers import BatchNormalization"
   ]
  },
  {
   "cell_type": "code",
   "execution_count": 2,
   "metadata": {},
   "outputs": [],
   "source": [
    "ptbxl_database_path = 'ptbxl/ptbxl_database.csv'\n",
    "scp_statements_path = 'ptbxl/scp_statements.csv'\n",
    "\n",
    "ptbxl = pd.read_csv(ptbxl_database_path, index_col='ecg_id')\n",
    "scp_statements = pd.read_csv(scp_statements_path, index_col=0)"
   ]
  },
  {
   "cell_type": "code",
   "execution_count": 3,
   "metadata": {},
   "outputs": [
    {
     "data": {
      "text/html": [
       "<div>\n",
       "<style scoped>\n",
       "    .dataframe tbody tr th:only-of-type {\n",
       "        vertical-align: middle;\n",
       "    }\n",
       "\n",
       "    .dataframe tbody tr th {\n",
       "        vertical-align: top;\n",
       "    }\n",
       "\n",
       "    .dataframe thead th {\n",
       "        text-align: right;\n",
       "    }\n",
       "</style>\n",
       "<table border=\"1\" class=\"dataframe\">\n",
       "  <thead>\n",
       "    <tr style=\"text-align: right;\">\n",
       "      <th></th>\n",
       "      <th>patient_id</th>\n",
       "      <th>age</th>\n",
       "      <th>sex</th>\n",
       "      <th>height</th>\n",
       "      <th>weight</th>\n",
       "      <th>nurse</th>\n",
       "      <th>site</th>\n",
       "      <th>device</th>\n",
       "      <th>recording_date</th>\n",
       "      <th>report</th>\n",
       "      <th>...</th>\n",
       "      <th>validated_by_human</th>\n",
       "      <th>baseline_drift</th>\n",
       "      <th>static_noise</th>\n",
       "      <th>burst_noise</th>\n",
       "      <th>electrodes_problems</th>\n",
       "      <th>extra_beats</th>\n",
       "      <th>pacemaker</th>\n",
       "      <th>strat_fold</th>\n",
       "      <th>filename_lr</th>\n",
       "      <th>filename_hr</th>\n",
       "    </tr>\n",
       "    <tr>\n",
       "      <th>ecg_id</th>\n",
       "      <th></th>\n",
       "      <th></th>\n",
       "      <th></th>\n",
       "      <th></th>\n",
       "      <th></th>\n",
       "      <th></th>\n",
       "      <th></th>\n",
       "      <th></th>\n",
       "      <th></th>\n",
       "      <th></th>\n",
       "      <th></th>\n",
       "      <th></th>\n",
       "      <th></th>\n",
       "      <th></th>\n",
       "      <th></th>\n",
       "      <th></th>\n",
       "      <th></th>\n",
       "      <th></th>\n",
       "      <th></th>\n",
       "      <th></th>\n",
       "      <th></th>\n",
       "    </tr>\n",
       "  </thead>\n",
       "  <tbody>\n",
       "    <tr>\n",
       "      <th>1</th>\n",
       "      <td>15709.0</td>\n",
       "      <td>56.0</td>\n",
       "      <td>1</td>\n",
       "      <td>NaN</td>\n",
       "      <td>63.0</td>\n",
       "      <td>2.0</td>\n",
       "      <td>0.0</td>\n",
       "      <td>CS-12   E</td>\n",
       "      <td>1984-11-09 09:17:34</td>\n",
       "      <td>sinusrhythmus periphere niederspannung</td>\n",
       "      <td>...</td>\n",
       "      <td>True</td>\n",
       "      <td>NaN</td>\n",
       "      <td>, I-V1,</td>\n",
       "      <td>NaN</td>\n",
       "      <td>NaN</td>\n",
       "      <td>NaN</td>\n",
       "      <td>NaN</td>\n",
       "      <td>3</td>\n",
       "      <td>records100/00000/00001_lr</td>\n",
       "      <td>records500/00000/00001_hr</td>\n",
       "    </tr>\n",
       "    <tr>\n",
       "      <th>2</th>\n",
       "      <td>13243.0</td>\n",
       "      <td>19.0</td>\n",
       "      <td>0</td>\n",
       "      <td>NaN</td>\n",
       "      <td>70.0</td>\n",
       "      <td>2.0</td>\n",
       "      <td>0.0</td>\n",
       "      <td>CS-12   E</td>\n",
       "      <td>1984-11-14 12:55:37</td>\n",
       "      <td>sinusbradykardie sonst normales ekg</td>\n",
       "      <td>...</td>\n",
       "      <td>True</td>\n",
       "      <td>NaN</td>\n",
       "      <td>NaN</td>\n",
       "      <td>NaN</td>\n",
       "      <td>NaN</td>\n",
       "      <td>NaN</td>\n",
       "      <td>NaN</td>\n",
       "      <td>2</td>\n",
       "      <td>records100/00000/00002_lr</td>\n",
       "      <td>records500/00000/00002_hr</td>\n",
       "    </tr>\n",
       "    <tr>\n",
       "      <th>3</th>\n",
       "      <td>20372.0</td>\n",
       "      <td>37.0</td>\n",
       "      <td>1</td>\n",
       "      <td>NaN</td>\n",
       "      <td>69.0</td>\n",
       "      <td>2.0</td>\n",
       "      <td>0.0</td>\n",
       "      <td>CS-12   E</td>\n",
       "      <td>1984-11-15 12:49:10</td>\n",
       "      <td>sinusrhythmus normales ekg</td>\n",
       "      <td>...</td>\n",
       "      <td>True</td>\n",
       "      <td>NaN</td>\n",
       "      <td>NaN</td>\n",
       "      <td>NaN</td>\n",
       "      <td>NaN</td>\n",
       "      <td>NaN</td>\n",
       "      <td>NaN</td>\n",
       "      <td>5</td>\n",
       "      <td>records100/00000/00003_lr</td>\n",
       "      <td>records500/00000/00003_hr</td>\n",
       "    </tr>\n",
       "    <tr>\n",
       "      <th>4</th>\n",
       "      <td>17014.0</td>\n",
       "      <td>24.0</td>\n",
       "      <td>0</td>\n",
       "      <td>NaN</td>\n",
       "      <td>82.0</td>\n",
       "      <td>2.0</td>\n",
       "      <td>0.0</td>\n",
       "      <td>CS-12   E</td>\n",
       "      <td>1984-11-15 13:44:57</td>\n",
       "      <td>sinusrhythmus normales ekg</td>\n",
       "      <td>...</td>\n",
       "      <td>True</td>\n",
       "      <td>, II,III,AVF</td>\n",
       "      <td>NaN</td>\n",
       "      <td>NaN</td>\n",
       "      <td>NaN</td>\n",
       "      <td>NaN</td>\n",
       "      <td>NaN</td>\n",
       "      <td>3</td>\n",
       "      <td>records100/00000/00004_lr</td>\n",
       "      <td>records500/00000/00004_hr</td>\n",
       "    </tr>\n",
       "    <tr>\n",
       "      <th>5</th>\n",
       "      <td>17448.0</td>\n",
       "      <td>19.0</td>\n",
       "      <td>1</td>\n",
       "      <td>NaN</td>\n",
       "      <td>70.0</td>\n",
       "      <td>2.0</td>\n",
       "      <td>0.0</td>\n",
       "      <td>CS-12   E</td>\n",
       "      <td>1984-11-17 10:43:15</td>\n",
       "      <td>sinusrhythmus normales ekg</td>\n",
       "      <td>...</td>\n",
       "      <td>True</td>\n",
       "      <td>, III,AVR,AVF</td>\n",
       "      <td>NaN</td>\n",
       "      <td>NaN</td>\n",
       "      <td>NaN</td>\n",
       "      <td>NaN</td>\n",
       "      <td>NaN</td>\n",
       "      <td>4</td>\n",
       "      <td>records100/00000/00005_lr</td>\n",
       "      <td>records500/00000/00005_hr</td>\n",
       "    </tr>\n",
       "  </tbody>\n",
       "</table>\n",
       "<p>5 rows × 27 columns</p>\n",
       "</div>"
      ],
      "text/plain": [
       "        patient_id   age  sex  height  weight  nurse  site     device  \\\n",
       "ecg_id                                                                  \n",
       "1          15709.0  56.0    1     NaN    63.0    2.0   0.0  CS-12   E   \n",
       "2          13243.0  19.0    0     NaN    70.0    2.0   0.0  CS-12   E   \n",
       "3          20372.0  37.0    1     NaN    69.0    2.0   0.0  CS-12   E   \n",
       "4          17014.0  24.0    0     NaN    82.0    2.0   0.0  CS-12   E   \n",
       "5          17448.0  19.0    1     NaN    70.0    2.0   0.0  CS-12   E   \n",
       "\n",
       "             recording_date                                  report  ...  \\\n",
       "ecg_id                                                               ...   \n",
       "1       1984-11-09 09:17:34  sinusrhythmus periphere niederspannung  ...   \n",
       "2       1984-11-14 12:55:37     sinusbradykardie sonst normales ekg  ...   \n",
       "3       1984-11-15 12:49:10              sinusrhythmus normales ekg  ...   \n",
       "4       1984-11-15 13:44:57              sinusrhythmus normales ekg  ...   \n",
       "5       1984-11-17 10:43:15              sinusrhythmus normales ekg  ...   \n",
       "\n",
       "       validated_by_human  baseline_drift static_noise burst_noise  \\\n",
       "ecg_id                                                               \n",
       "1                    True             NaN    , I-V1,           NaN   \n",
       "2                    True             NaN          NaN         NaN   \n",
       "3                    True             NaN          NaN         NaN   \n",
       "4                    True    , II,III,AVF          NaN         NaN   \n",
       "5                    True   , III,AVR,AVF          NaN         NaN   \n",
       "\n",
       "        electrodes_problems  extra_beats  pacemaker  strat_fold  \\\n",
       "ecg_id                                                            \n",
       "1                       NaN          NaN        NaN           3   \n",
       "2                       NaN          NaN        NaN           2   \n",
       "3                       NaN          NaN        NaN           5   \n",
       "4                       NaN          NaN        NaN           3   \n",
       "5                       NaN          NaN        NaN           4   \n",
       "\n",
       "                      filename_lr                filename_hr  \n",
       "ecg_id                                                        \n",
       "1       records100/00000/00001_lr  records500/00000/00001_hr  \n",
       "2       records100/00000/00002_lr  records500/00000/00002_hr  \n",
       "3       records100/00000/00003_lr  records500/00000/00003_hr  \n",
       "4       records100/00000/00004_lr  records500/00000/00004_hr  \n",
       "5       records100/00000/00005_lr  records500/00000/00005_hr  \n",
       "\n",
       "[5 rows x 27 columns]"
      ]
     },
     "metadata": {},
     "output_type": "display_data"
    },
    {
     "name": "stdout",
     "output_type": "stream",
     "text": [
      "(21799, 27)\n"
     ]
    },
    {
     "data": {
      "text/html": [
       "<div>\n",
       "<style scoped>\n",
       "    .dataframe tbody tr th:only-of-type {\n",
       "        vertical-align: middle;\n",
       "    }\n",
       "\n",
       "    .dataframe tbody tr th {\n",
       "        vertical-align: top;\n",
       "    }\n",
       "\n",
       "    .dataframe thead th {\n",
       "        text-align: right;\n",
       "    }\n",
       "</style>\n",
       "<table border=\"1\" class=\"dataframe\">\n",
       "  <thead>\n",
       "    <tr style=\"text-align: right;\">\n",
       "      <th></th>\n",
       "      <th>description</th>\n",
       "      <th>diagnostic</th>\n",
       "      <th>form</th>\n",
       "      <th>rhythm</th>\n",
       "      <th>diagnostic_class</th>\n",
       "      <th>diagnostic_subclass</th>\n",
       "      <th>Statement Category</th>\n",
       "      <th>SCP-ECG Statement Description</th>\n",
       "      <th>AHA code</th>\n",
       "      <th>aECG REFID</th>\n",
       "      <th>CDISC Code</th>\n",
       "      <th>DICOM Code</th>\n",
       "    </tr>\n",
       "  </thead>\n",
       "  <tbody>\n",
       "    <tr>\n",
       "      <th>NDT</th>\n",
       "      <td>non-diagnostic T abnormalities</td>\n",
       "      <td>1.0</td>\n",
       "      <td>1.0</td>\n",
       "      <td>NaN</td>\n",
       "      <td>STTC</td>\n",
       "      <td>STTC</td>\n",
       "      <td>other ST-T descriptive statements</td>\n",
       "      <td>non-diagnostic T abnormalities</td>\n",
       "      <td>NaN</td>\n",
       "      <td>NaN</td>\n",
       "      <td>NaN</td>\n",
       "      <td>NaN</td>\n",
       "    </tr>\n",
       "    <tr>\n",
       "      <th>NST_</th>\n",
       "      <td>non-specific ST changes</td>\n",
       "      <td>1.0</td>\n",
       "      <td>1.0</td>\n",
       "      <td>NaN</td>\n",
       "      <td>STTC</td>\n",
       "      <td>NST_</td>\n",
       "      <td>Basic roots for coding ST-T changes and abnorm...</td>\n",
       "      <td>non-specific ST changes</td>\n",
       "      <td>145.0</td>\n",
       "      <td>MDC_ECG_RHY_STHILOST</td>\n",
       "      <td>NaN</td>\n",
       "      <td>NaN</td>\n",
       "    </tr>\n",
       "    <tr>\n",
       "      <th>DIG</th>\n",
       "      <td>digitalis-effect</td>\n",
       "      <td>1.0</td>\n",
       "      <td>1.0</td>\n",
       "      <td>NaN</td>\n",
       "      <td>STTC</td>\n",
       "      <td>STTC</td>\n",
       "      <td>other ST-T descriptive statements</td>\n",
       "      <td>suggests digitalis-effect</td>\n",
       "      <td>205.0</td>\n",
       "      <td>NaN</td>\n",
       "      <td>NaN</td>\n",
       "      <td>NaN</td>\n",
       "    </tr>\n",
       "    <tr>\n",
       "      <th>LNGQT</th>\n",
       "      <td>long QT-interval</td>\n",
       "      <td>1.0</td>\n",
       "      <td>1.0</td>\n",
       "      <td>NaN</td>\n",
       "      <td>STTC</td>\n",
       "      <td>STTC</td>\n",
       "      <td>other ST-T descriptive statements</td>\n",
       "      <td>long QT-interval</td>\n",
       "      <td>148.0</td>\n",
       "      <td>NaN</td>\n",
       "      <td>NaN</td>\n",
       "      <td>NaN</td>\n",
       "    </tr>\n",
       "    <tr>\n",
       "      <th>NORM</th>\n",
       "      <td>normal ECG</td>\n",
       "      <td>1.0</td>\n",
       "      <td>NaN</td>\n",
       "      <td>NaN</td>\n",
       "      <td>NORM</td>\n",
       "      <td>NORM</td>\n",
       "      <td>Normal/abnormal</td>\n",
       "      <td>normal ECG</td>\n",
       "      <td>1.0</td>\n",
       "      <td>NaN</td>\n",
       "      <td>NaN</td>\n",
       "      <td>F-000B7</td>\n",
       "    </tr>\n",
       "  </tbody>\n",
       "</table>\n",
       "</div>"
      ],
      "text/plain": [
       "                          description  diagnostic  form  rhythm  \\\n",
       "NDT    non-diagnostic T abnormalities         1.0   1.0     NaN   \n",
       "NST_          non-specific ST changes         1.0   1.0     NaN   \n",
       "DIG                  digitalis-effect         1.0   1.0     NaN   \n",
       "LNGQT                long QT-interval         1.0   1.0     NaN   \n",
       "NORM                       normal ECG         1.0   NaN     NaN   \n",
       "\n",
       "      diagnostic_class diagnostic_subclass  \\\n",
       "NDT               STTC                STTC   \n",
       "NST_              STTC                NST_   \n",
       "DIG               STTC                STTC   \n",
       "LNGQT             STTC                STTC   \n",
       "NORM              NORM                NORM   \n",
       "\n",
       "                                      Statement Category  \\\n",
       "NDT                    other ST-T descriptive statements   \n",
       "NST_   Basic roots for coding ST-T changes and abnorm...   \n",
       "DIG                    other ST-T descriptive statements   \n",
       "LNGQT                  other ST-T descriptive statements   \n",
       "NORM                                     Normal/abnormal   \n",
       "\n",
       "        SCP-ECG Statement Description  AHA code            aECG REFID  \\\n",
       "NDT    non-diagnostic T abnormalities       NaN                   NaN   \n",
       "NST_          non-specific ST changes     145.0  MDC_ECG_RHY_STHILOST   \n",
       "DIG         suggests digitalis-effect     205.0                   NaN   \n",
       "LNGQT                long QT-interval     148.0                   NaN   \n",
       "NORM                       normal ECG       1.0                   NaN   \n",
       "\n",
       "      CDISC Code DICOM Code  \n",
       "NDT          NaN        NaN  \n",
       "NST_         NaN        NaN  \n",
       "DIG          NaN        NaN  \n",
       "LNGQT        NaN        NaN  \n",
       "NORM         NaN    F-000B7  "
      ]
     },
     "metadata": {},
     "output_type": "display_data"
    },
    {
     "name": "stdout",
     "output_type": "stream",
     "text": [
      "(71, 12)\n"
     ]
    }
   ],
   "source": [
    "display(ptbxl.head())\n",
    "print(ptbxl.shape)   \n",
    "display(scp_statements.head())\n",
    "print(scp_statements.shape)"
   ]
  },
  {
   "cell_type": "code",
   "execution_count": 4,
   "metadata": {},
   "outputs": [
    {
     "name": "stdout",
     "output_type": "stream",
     "text": [
      "PTBXL Columns: \n",
      "Index(['patient_id', 'age', 'sex', 'height', 'weight', 'nurse', 'site',\n",
      "       'device', 'recording_date', 'report', 'scp_codes', 'heart_axis',\n",
      "       'infarction_stadium1', 'infarction_stadium2', 'validated_by',\n",
      "       'second_opinion', 'initial_autogenerated_report', 'validated_by_human',\n",
      "       'baseline_drift', 'static_noise', 'burst_noise', 'electrodes_problems',\n",
      "       'extra_beats', 'pacemaker', 'strat_fold', 'filename_lr', 'filename_hr'],\n",
      "      dtype='object')\n",
      "SCP Statements Columns: \n",
      "Index(['description', 'diagnostic', 'form', 'rhythm', 'diagnostic_class',\n",
      "       'diagnostic_subclass', 'Statement Category',\n",
      "       'SCP-ECG Statement Description', 'AHA code', 'aECG REFID', 'CDISC Code',\n",
      "       'DICOM Code'],\n",
      "      dtype='object')\n"
     ]
    }
   ],
   "source": [
    "print(\"PTBXL Columns: \")\n",
    "print(ptbxl.columns)\n",
    "print(\"SCP Statements Columns: \")\n",
    "print(scp_statements.columns)\n"
   ]
  },
  {
   "cell_type": "code",
   "execution_count": 5,
   "metadata": {},
   "outputs": [
    {
     "name": "stdout",
     "output_type": "stream",
     "text": [
      "(44, 12)\n"
     ]
    }
   ],
   "source": [
    "scp_statements = scp_statements[scp_statements.diagnostic == 1]\n",
    "print(scp_statements.shape)"
   ]
  },
  {
   "cell_type": "code",
   "execution_count": 6,
   "metadata": {},
   "outputs": [
    {
     "data": {
      "text/html": [
       "<div>\n",
       "<style scoped>\n",
       "    .dataframe tbody tr th:only-of-type {\n",
       "        vertical-align: middle;\n",
       "    }\n",
       "\n",
       "    .dataframe tbody tr th {\n",
       "        vertical-align: top;\n",
       "    }\n",
       "\n",
       "    .dataframe thead th {\n",
       "        text-align: right;\n",
       "    }\n",
       "</style>\n",
       "<table border=\"1\" class=\"dataframe\">\n",
       "  <thead>\n",
       "    <tr style=\"text-align: right;\">\n",
       "      <th></th>\n",
       "      <th>filename_lr</th>\n",
       "      <th>filename_hr</th>\n",
       "      <th>scp_codes</th>\n",
       "      <th>strat_fold</th>\n",
       "    </tr>\n",
       "    <tr>\n",
       "      <th>ecg_id</th>\n",
       "      <th></th>\n",
       "      <th></th>\n",
       "      <th></th>\n",
       "      <th></th>\n",
       "    </tr>\n",
       "  </thead>\n",
       "  <tbody>\n",
       "    <tr>\n",
       "      <th>1</th>\n",
       "      <td>records100/00000/00001_lr</td>\n",
       "      <td>records500/00000/00001_hr</td>\n",
       "      <td>{'NORM': 100.0, 'LVOLT': 0.0, 'SR': 0.0}</td>\n",
       "      <td>3</td>\n",
       "    </tr>\n",
       "    <tr>\n",
       "      <th>2</th>\n",
       "      <td>records100/00000/00002_lr</td>\n",
       "      <td>records500/00000/00002_hr</td>\n",
       "      <td>{'NORM': 80.0, 'SBRAD': 0.0}</td>\n",
       "      <td>2</td>\n",
       "    </tr>\n",
       "    <tr>\n",
       "      <th>3</th>\n",
       "      <td>records100/00000/00003_lr</td>\n",
       "      <td>records500/00000/00003_hr</td>\n",
       "      <td>{'NORM': 100.0, 'SR': 0.0}</td>\n",
       "      <td>5</td>\n",
       "    </tr>\n",
       "    <tr>\n",
       "      <th>4</th>\n",
       "      <td>records100/00000/00004_lr</td>\n",
       "      <td>records500/00000/00004_hr</td>\n",
       "      <td>{'NORM': 100.0, 'SR': 0.0}</td>\n",
       "      <td>3</td>\n",
       "    </tr>\n",
       "    <tr>\n",
       "      <th>5</th>\n",
       "      <td>records100/00000/00005_lr</td>\n",
       "      <td>records500/00000/00005_hr</td>\n",
       "      <td>{'NORM': 100.0, 'SR': 0.0}</td>\n",
       "      <td>4</td>\n",
       "    </tr>\n",
       "  </tbody>\n",
       "</table>\n",
       "</div>"
      ],
      "text/plain": [
       "                      filename_lr                filename_hr  \\\n",
       "ecg_id                                                         \n",
       "1       records100/00000/00001_lr  records500/00000/00001_hr   \n",
       "2       records100/00000/00002_lr  records500/00000/00002_hr   \n",
       "3       records100/00000/00003_lr  records500/00000/00003_hr   \n",
       "4       records100/00000/00004_lr  records500/00000/00004_hr   \n",
       "5       records100/00000/00005_lr  records500/00000/00005_hr   \n",
       "\n",
       "                                       scp_codes  strat_fold  \n",
       "ecg_id                                                        \n",
       "1       {'NORM': 100.0, 'LVOLT': 0.0, 'SR': 0.0}           3  \n",
       "2                   {'NORM': 80.0, 'SBRAD': 0.0}           2  \n",
       "3                     {'NORM': 100.0, 'SR': 0.0}           5  \n",
       "4                     {'NORM': 100.0, 'SR': 0.0}           3  \n",
       "5                     {'NORM': 100.0, 'SR': 0.0}           4  "
      ]
     },
     "metadata": {},
     "output_type": "display_data"
    }
   ],
   "source": [
    "ptbxl_filtered = ptbxl.filter(['ecg_id', 'filename_lr', 'filename_hr', 'scp_codes', 'strat_fold'])\n",
    "display(ptbxl_filtered.head())"
   ]
  },
  {
   "cell_type": "code",
   "execution_count": 7,
   "metadata": {},
   "outputs": [],
   "source": [
    "# convert the string in scp_codees to dictionary\n",
    "ptbxl_filtered['scp_codes'] = ptbxl_filtered['scp_codes'].apply(lambda x: ast.literal_eval(x))"
   ]
  },
  {
   "cell_type": "code",
   "execution_count": 8,
   "metadata": {},
   "outputs": [],
   "source": [
    "def aggregate_diagnostic(dic):\n",
    "    tmp = []\n",
    "    for key in dic.keys():\n",
    "        if key in scp_statements.index:\n",
    "            tmp.append(scp_statements.loc[key].diagnostic_class)\n",
    "    return list(set(tmp))"
   ]
  },
  {
   "cell_type": "code",
   "execution_count": 9,
   "metadata": {},
   "outputs": [],
   "source": [
    "ptbxl_filtered['diagnostic_superclass'] = ptbxl_filtered['scp_codes'].apply(aggregate_diagnostic)"
   ]
  },
  {
   "cell_type": "code",
   "execution_count": 10,
   "metadata": {},
   "outputs": [
    {
     "data": {
      "text/html": [
       "<div>\n",
       "<style scoped>\n",
       "    .dataframe tbody tr th:only-of-type {\n",
       "        vertical-align: middle;\n",
       "    }\n",
       "\n",
       "    .dataframe tbody tr th {\n",
       "        vertical-align: top;\n",
       "    }\n",
       "\n",
       "    .dataframe thead th {\n",
       "        text-align: right;\n",
       "    }\n",
       "</style>\n",
       "<table border=\"1\" class=\"dataframe\">\n",
       "  <thead>\n",
       "    <tr style=\"text-align: right;\">\n",
       "      <th></th>\n",
       "      <th>filename_lr</th>\n",
       "      <th>filename_hr</th>\n",
       "      <th>scp_codes</th>\n",
       "      <th>strat_fold</th>\n",
       "      <th>diagnostic_superclass</th>\n",
       "    </tr>\n",
       "    <tr>\n",
       "      <th>ecg_id</th>\n",
       "      <th></th>\n",
       "      <th></th>\n",
       "      <th></th>\n",
       "      <th></th>\n",
       "      <th></th>\n",
       "    </tr>\n",
       "  </thead>\n",
       "  <tbody>\n",
       "    <tr>\n",
       "      <th>1</th>\n",
       "      <td>records100/00000/00001_lr</td>\n",
       "      <td>records500/00000/00001_hr</td>\n",
       "      <td>{'NORM': 100.0, 'LVOLT': 0.0, 'SR': 0.0}</td>\n",
       "      <td>3</td>\n",
       "      <td>[NORM]</td>\n",
       "    </tr>\n",
       "    <tr>\n",
       "      <th>2</th>\n",
       "      <td>records100/00000/00002_lr</td>\n",
       "      <td>records500/00000/00002_hr</td>\n",
       "      <td>{'NORM': 80.0, 'SBRAD': 0.0}</td>\n",
       "      <td>2</td>\n",
       "      <td>[NORM]</td>\n",
       "    </tr>\n",
       "    <tr>\n",
       "      <th>3</th>\n",
       "      <td>records100/00000/00003_lr</td>\n",
       "      <td>records500/00000/00003_hr</td>\n",
       "      <td>{'NORM': 100.0, 'SR': 0.0}</td>\n",
       "      <td>5</td>\n",
       "      <td>[NORM]</td>\n",
       "    </tr>\n",
       "    <tr>\n",
       "      <th>4</th>\n",
       "      <td>records100/00000/00004_lr</td>\n",
       "      <td>records500/00000/00004_hr</td>\n",
       "      <td>{'NORM': 100.0, 'SR': 0.0}</td>\n",
       "      <td>3</td>\n",
       "      <td>[NORM]</td>\n",
       "    </tr>\n",
       "    <tr>\n",
       "      <th>5</th>\n",
       "      <td>records100/00000/00005_lr</td>\n",
       "      <td>records500/00000/00005_hr</td>\n",
       "      <td>{'NORM': 100.0, 'SR': 0.0}</td>\n",
       "      <td>4</td>\n",
       "      <td>[NORM]</td>\n",
       "    </tr>\n",
       "  </tbody>\n",
       "</table>\n",
       "</div>"
      ],
      "text/plain": [
       "                      filename_lr                filename_hr  \\\n",
       "ecg_id                                                         \n",
       "1       records100/00000/00001_lr  records500/00000/00001_hr   \n",
       "2       records100/00000/00002_lr  records500/00000/00002_hr   \n",
       "3       records100/00000/00003_lr  records500/00000/00003_hr   \n",
       "4       records100/00000/00004_lr  records500/00000/00004_hr   \n",
       "5       records100/00000/00005_lr  records500/00000/00005_hr   \n",
       "\n",
       "                                       scp_codes  strat_fold  \\\n",
       "ecg_id                                                         \n",
       "1       {'NORM': 100.0, 'LVOLT': 0.0, 'SR': 0.0}           3   \n",
       "2                   {'NORM': 80.0, 'SBRAD': 0.0}           2   \n",
       "3                     {'NORM': 100.0, 'SR': 0.0}           5   \n",
       "4                     {'NORM': 100.0, 'SR': 0.0}           3   \n",
       "5                     {'NORM': 100.0, 'SR': 0.0}           4   \n",
       "\n",
       "       diagnostic_superclass  \n",
       "ecg_id                        \n",
       "1                     [NORM]  \n",
       "2                     [NORM]  \n",
       "3                     [NORM]  \n",
       "4                     [NORM]  \n",
       "5                     [NORM]  "
      ]
     },
     "execution_count": 10,
     "metadata": {},
     "output_type": "execute_result"
    }
   ],
   "source": [
    "ptbxl_filtered.head()"
   ]
  },
  {
   "cell_type": "code",
   "execution_count": 11,
   "metadata": {},
   "outputs": [],
   "source": [
    "def load_raw_data(df, sampling_rate, path):\n",
    "    data = []\n",
    "    if sampling_rate == 100:\n",
    "        data = [wfdb.rdsamp(path+f) for f in df.filename_lr]\n",
    "    else:\n",
    "        data = [wfdb.rdsamp(path+f) for f in df.filename_hr]\n",
    "    data = np.array([signal for signal, meta in data])\n",
    "    return data"
   ]
  },
  {
   "cell_type": "code",
   "execution_count": 12,
   "metadata": {},
   "outputs": [],
   "source": [
    "# split the data into train and test\n",
    "ecg_data = load_raw_data(ptbxl_filtered, 100, 'ptbxl/')"
   ]
  },
  {
   "cell_type": "code",
   "execution_count": 13,
   "metadata": {},
   "outputs": [
    {
     "data": {
      "text/plain": [
       "(21799, 12, 1000)"
      ]
     },
     "execution_count": 13,
     "metadata": {},
     "output_type": "execute_result"
    }
   ],
   "source": [
    "ecg_data = np.transpose(ecg_data, (0, 2, 1))\n",
    "ecg_data.shape"
   ]
  },
  {
   "cell_type": "code",
   "execution_count": 14,
   "metadata": {},
   "outputs": [
    {
     "data": {
      "image/png": "[encoded data removed]",
      "text/plain": [
       "<Figure size 640x480 with 1 Axes>"
      ]
     },
     "metadata": {},
     "output_type": "display_data"
    }
   ],
   "source": [
    "wfdb.plot_items(signal=ecg_data[0][0], title='ECG Signal')"
   ]
  },
  {
   "cell_type": "code",
   "execution_count": 15,
   "metadata": {},
   "outputs": [],
   "source": [
    "ecg_labels = ptbxl_filtered['diagnostic_superclass'].values"
   ]
  },
  {
   "cell_type": "code",
   "execution_count": 16,
   "metadata": {},
   "outputs": [],
   "source": [
    "#convert ecg_labels from array of lists to array of strings\n",
    "ecg_labels = [' '.join(map(str, l)) for l in ecg_labels]"
   ]
  },
  {
   "cell_type": "code",
   "execution_count": 17,
   "metadata": {},
   "outputs": [],
   "source": [
    "from keras.utils import to_categorical"
   ]
  },
  {
   "cell_type": "code",
   "execution_count": 18,
   "metadata": {},
   "outputs": [],
   "source": [
    "from sklearn.preprocessing import LabelEncoder\n",
    "label_encoder = LabelEncoder()\n",
    "encoded_labels = label_encoder.fit_transform(ecg_labels)\n",
    "labels = to_categorical(encoded_labels)"
   ]
  },
  {
   "cell_type": "code",
   "execution_count": 19,
   "metadata": {},
   "outputs": [
    {
     "data": {
      "text/plain": [
       "{0: '',\n",
       " 1: 'CD',\n",
       " 2: 'CD HYP',\n",
       " 3: 'CD STTC',\n",
       " 4: 'CD STTC HYP',\n",
       " 5: 'HYP',\n",
       " 6: 'MI',\n",
       " 7: 'MI CD',\n",
       " 8: 'MI CD HYP',\n",
       " 9: 'MI CD STTC',\n",
       " 10: 'MI CD STTC HYP',\n",
       " 11: 'MI HYP',\n",
       " 12: 'MI STTC',\n",
       " 13: 'MI STTC HYP',\n",
       " 14: 'NORM',\n",
       " 15: 'NORM CD',\n",
       " 16: 'NORM CD HYP',\n",
       " 17: 'NORM CD STTC',\n",
       " 18: 'NORM HYP',\n",
       " 19: 'NORM MI CD HYP',\n",
       " 20: 'NORM STTC',\n",
       " 21: 'STTC',\n",
       " 22: 'STTC HYP'}"
      ]
     },
     "execution_count": 19,
     "metadata": {},
     "output_type": "execute_result"
    }
   ],
   "source": [
    "# display the labels along with the classes\n",
    "label_mapping = dict(zip(label_encoder.transform(label_encoder.classes_), label_encoder.classes_))\n",
    "label_mapping"
   ]
  },
  {
   "cell_type": "code",
   "execution_count": 20,
   "metadata": {},
   "outputs": [
    {
     "data": {
      "image/png": "[encoded data removed]",
      "text/plain": [
       "<Figure size 2000x1000 with 1 Axes>"
      ]
     },
     "metadata": {},
     "output_type": "display_data"
    }
   ],
   "source": [
    "# count the frequency of each diagnostic_superclass in the dataset and plot the distribution\n",
    "from collections import Counter\n",
    "from matplotlib import pyplot as plt\n",
    "\n",
    "counter = Counter(ecg_labels)\n",
    "keys = counter.keys()\n",
    "values = counter.values()\n",
    "\n",
    "plt.figure(figsize=(20, 10))\n",
    "plt.bar(keys, values)\n",
    "plt.xticks(rotation='vertical')\n",
    "plt.show()"
   ]
  },
  {
   "cell_type": "code",
   "execution_count": 21,
   "metadata": {},
   "outputs": [],
   "source": [
    "# create a subset of ptbxl where the diagnostic_superclass is either 'NORM', 'STTC', 'MI', 'HYP' or 'CD'\n",
    "ptbxl_filtered_subset = ptbxl_filtered[ptbxl_filtered['diagnostic_superclass'].apply(lambda x: 'NORM' in x or 'STTC' in x or 'MI' in x or 'HYP' in x or 'CD' in x)]"
   ]
  },
  {
   "cell_type": "code",
   "execution_count": 22,
   "metadata": {},
   "outputs": [
    {
     "name": "stdout",
     "output_type": "stream",
     "text": [
      "(21388, 5)\n"
     ]
    },
    {
     "data": {
      "text/html": [
       "<div>\n",
       "<style scoped>\n",
       "    .dataframe tbody tr th:only-of-type {\n",
       "        vertical-align: middle;\n",
       "    }\n",
       "\n",
       "    .dataframe tbody tr th {\n",
       "        vertical-align: top;\n",
       "    }\n",
       "\n",
       "    .dataframe thead th {\n",
       "        text-align: right;\n",
       "    }\n",
       "</style>\n",
       "<table border=\"1\" class=\"dataframe\">\n",
       "  <thead>\n",
       "    <tr style=\"text-align: right;\">\n",
       "      <th></th>\n",
       "      <th>filename_lr</th>\n",
       "      <th>filename_hr</th>\n",
       "      <th>scp_codes</th>\n",
       "      <th>strat_fold</th>\n",
       "      <th>diagnostic_superclass</th>\n",
       "    </tr>\n",
       "    <tr>\n",
       "      <th>ecg_id</th>\n",
       "      <th></th>\n",
       "      <th></th>\n",
       "      <th></th>\n",
       "      <th></th>\n",
       "      <th></th>\n",
       "    </tr>\n",
       "  </thead>\n",
       "  <tbody>\n",
       "    <tr>\n",
       "      <th>1</th>\n",
       "      <td>records100/00000/00001_lr</td>\n",
       "      <td>records500/00000/00001_hr</td>\n",
       "      <td>{'NORM': 100.0, 'LVOLT': 0.0, 'SR': 0.0}</td>\n",
       "      <td>3</td>\n",
       "      <td>[NORM]</td>\n",
       "    </tr>\n",
       "    <tr>\n",
       "      <th>2</th>\n",
       "      <td>records100/00000/00002_lr</td>\n",
       "      <td>records500/00000/00002_hr</td>\n",
       "      <td>{'NORM': 80.0, 'SBRAD': 0.0}</td>\n",
       "      <td>2</td>\n",
       "      <td>[NORM]</td>\n",
       "    </tr>\n",
       "    <tr>\n",
       "      <th>3</th>\n",
       "      <td>records100/00000/00003_lr</td>\n",
       "      <td>records500/00000/00003_hr</td>\n",
       "      <td>{'NORM': 100.0, 'SR': 0.0}</td>\n",
       "      <td>5</td>\n",
       "      <td>[NORM]</td>\n",
       "    </tr>\n",
       "    <tr>\n",
       "      <th>4</th>\n",
       "      <td>records100/00000/00004_lr</td>\n",
       "      <td>records500/00000/00004_hr</td>\n",
       "      <td>{'NORM': 100.0, 'SR': 0.0}</td>\n",
       "      <td>3</td>\n",
       "      <td>[NORM]</td>\n",
       "    </tr>\n",
       "    <tr>\n",
       "      <th>5</th>\n",
       "      <td>records100/00000/00005_lr</td>\n",
       "      <td>records500/00000/00005_hr</td>\n",
       "      <td>{'NORM': 100.0, 'SR': 0.0}</td>\n",
       "      <td>4</td>\n",
       "      <td>[NORM]</td>\n",
       "    </tr>\n",
       "    <tr>\n",
       "      <th>...</th>\n",
       "      <td>...</td>\n",
       "      <td>...</td>\n",
       "      <td>...</td>\n",
       "      <td>...</td>\n",
       "      <td>...</td>\n",
       "    </tr>\n",
       "    <tr>\n",
       "      <th>21833</th>\n",
       "      <td>records100/21000/21833_lr</td>\n",
       "      <td>records500/21000/21833_hr</td>\n",
       "      <td>{'NDT': 100.0, 'PVC': 100.0, 'VCLVH': 0.0, 'ST...</td>\n",
       "      <td>7</td>\n",
       "      <td>[STTC]</td>\n",
       "    </tr>\n",
       "    <tr>\n",
       "      <th>21834</th>\n",
       "      <td>records100/21000/21834_lr</td>\n",
       "      <td>records500/21000/21834_hr</td>\n",
       "      <td>{'NORM': 100.0, 'ABQRS': 0.0, 'SR': 0.0}</td>\n",
       "      <td>4</td>\n",
       "      <td>[NORM]</td>\n",
       "    </tr>\n",
       "    <tr>\n",
       "      <th>21835</th>\n",
       "      <td>records100/21000/21835_lr</td>\n",
       "      <td>records500/21000/21835_hr</td>\n",
       "      <td>{'ISCAS': 50.0, 'SR': 0.0}</td>\n",
       "      <td>2</td>\n",
       "      <td>[STTC]</td>\n",
       "    </tr>\n",
       "    <tr>\n",
       "      <th>21836</th>\n",
       "      <td>records100/21000/21836_lr</td>\n",
       "      <td>records500/21000/21836_hr</td>\n",
       "      <td>{'NORM': 100.0, 'SR': 0.0}</td>\n",
       "      <td>8</td>\n",
       "      <td>[NORM]</td>\n",
       "    </tr>\n",
       "    <tr>\n",
       "      <th>21837</th>\n",
       "      <td>records100/21000/21837_lr</td>\n",
       "      <td>records500/21000/21837_hr</td>\n",
       "      <td>{'NORM': 100.0, 'SR': 0.0}</td>\n",
       "      <td>9</td>\n",
       "      <td>[NORM]</td>\n",
       "    </tr>\n",
       "  </tbody>\n",
       "</table>\n",
       "<p>21388 rows × 5 columns</p>\n",
       "</div>"
      ],
      "text/plain": [
       "                      filename_lr                filename_hr  \\\n",
       "ecg_id                                                         \n",
       "1       records100/00000/00001_lr  records500/00000/00001_hr   \n",
       "2       records100/00000/00002_lr  records500/00000/00002_hr   \n",
       "3       records100/00000/00003_lr  records500/00000/00003_hr   \n",
       "4       records100/00000/00004_lr  records500/00000/00004_hr   \n",
       "5       records100/00000/00005_lr  records500/00000/00005_hr   \n",
       "...                           ...                        ...   \n",
       "21833   records100/21000/21833_lr  records500/21000/21833_hr   \n",
       "21834   records100/21000/21834_lr  records500/21000/21834_hr   \n",
       "21835   records100/21000/21835_lr  records500/21000/21835_hr   \n",
       "21836   records100/21000/21836_lr  records500/21000/21836_hr   \n",
       "21837   records100/21000/21837_lr  records500/21000/21837_hr   \n",
       "\n",
       "                                                scp_codes  strat_fold  \\\n",
       "ecg_id                                                                  \n",
       "1                {'NORM': 100.0, 'LVOLT': 0.0, 'SR': 0.0}           3   \n",
       "2                            {'NORM': 80.0, 'SBRAD': 0.0}           2   \n",
       "3                              {'NORM': 100.0, 'SR': 0.0}           5   \n",
       "4                              {'NORM': 100.0, 'SR': 0.0}           3   \n",
       "5                              {'NORM': 100.0, 'SR': 0.0}           4   \n",
       "...                                                   ...         ...   \n",
       "21833   {'NDT': 100.0, 'PVC': 100.0, 'VCLVH': 0.0, 'ST...           7   \n",
       "21834            {'NORM': 100.0, 'ABQRS': 0.0, 'SR': 0.0}           4   \n",
       "21835                          {'ISCAS': 50.0, 'SR': 0.0}           2   \n",
       "21836                          {'NORM': 100.0, 'SR': 0.0}           8   \n",
       "21837                          {'NORM': 100.0, 'SR': 0.0}           9   \n",
       "\n",
       "       diagnostic_superclass  \n",
       "ecg_id                        \n",
       "1                     [NORM]  \n",
       "2                     [NORM]  \n",
       "3                     [NORM]  \n",
       "4                     [NORM]  \n",
       "5                     [NORM]  \n",
       "...                      ...  \n",
       "21833                 [STTC]  \n",
       "21834                 [NORM]  \n",
       "21835                 [STTC]  \n",
       "21836                 [NORM]  \n",
       "21837                 [NORM]  \n",
       "\n",
       "[21388 rows x 5 columns]"
      ]
     },
     "execution_count": 22,
     "metadata": {},
     "output_type": "execute_result"
    }
   ],
   "source": [
    "print(ptbxl_filtered_subset.shape)\n",
    "ptbxl_filtered_subset"
   ]
  },
  {
   "cell_type": "code",
   "execution_count": 23,
   "metadata": {},
   "outputs": [
    {
     "name": "stdout",
     "output_type": "stream",
     "text": [
      "filename_lr                             records100/00000/00001_lr\n",
      "filename_hr                             records500/00000/00001_hr\n",
      "scp_codes                {'NORM': 100.0, 'LVOLT': 0.0, 'SR': 0.0}\n",
      "strat_fold                                                      3\n",
      "diagnostic_superclass                                      [NORM]\n",
      "Name: 1, dtype: object\n"
     ]
    }
   ],
   "source": [
    "# print the first entry of the subset\n",
    "print(ptbxl_filtered_subset.iloc[0])"
   ]
  },
  {
   "cell_type": "code",
   "execution_count": 24,
   "metadata": {},
   "outputs": [],
   "source": [
    "filename_lr = []\n",
    "labels = []\n",
    "labels_binary = []\n",
    "for index, row in ptbxl_filtered.iterrows():\n",
    "    if (row['diagnostic_superclass'] == ['NORM'] or row['diagnostic_superclass'] == ['STTC'] or row['diagnostic_superclass'] == ['MI'] or row['diagnostic_superclass'] == ['HYP'] or row['diagnostic_superclass'] == ['CD']):\n",
    "        filename_lr.append(row['filename_lr'])\n",
    "        labels.append(row['diagnostic_superclass'][0])\n",
    "        if (row['diagnostic_superclass'] == ['NORM']):\n",
    "            labels_binary.append(1)\n",
    "        else:\n",
    "            labels_binary.append(0)\n"
   ]
  },
  {
   "cell_type": "code",
   "execution_count": 25,
   "metadata": {},
   "outputs": [],
   "source": [
    "filename_lr = np.array(filename_lr)\n",
    "labels = np.array(labels)"
   ]
  },
  {
   "cell_type": "code",
   "execution_count": 26,
   "metadata": {},
   "outputs": [
    {
     "data": {
      "image/png": "[encoded data removed]",
      "text/plain": [
       "<Figure size 2000x1000 with 1 Axes>"
      ]
     },
     "metadata": {},
     "output_type": "display_data"
    }
   ],
   "source": [
    "# count the frequency of each label and plot it in a bar graph\n",
    "counter = Counter(labels)\n",
    "keys = counter.keys()\n",
    "values = counter.values()\n",
    "\n",
    "plt.figure(figsize=(20, 10))\n",
    "plt.bar(keys, values)\n",
    "plt.xticks(rotation='vertical')\n",
    "plt.show()"
   ]
  },
  {
   "cell_type": "code",
   "execution_count": 27,
   "metadata": {},
   "outputs": [
    {
     "name": "stdout",
     "output_type": "stream",
     "text": [
      "NORM \t 9069\n",
      "MI \t 2532\n",
      "STTC \t 2400\n",
      "HYP \t 535\n",
      "CD \t 1708\n"
     ]
    }
   ],
   "source": [
    "for count in counter:\n",
    "    print(count, '\\t', counter[count])"
   ]
  },
  {
   "cell_type": "code",
   "execution_count": 28,
   "metadata": {},
   "outputs": [],
   "source": [
    "def read_data(filename_lr, labels):\n",
    "    data = []\n",
    "    for f in filename_lr:\n",
    "        data.append(wfdb.rdsamp('ptbxl/' + f)[0])\n",
    "    return np.array(data), labels"
   ]
  },
  {
   "cell_type": "code",
   "execution_count": 29,
   "metadata": {},
   "outputs": [],
   "source": [
    "data = read_data(filename_lr, labels)"
   ]
  },
  {
   "cell_type": "code",
   "execution_count": 30,
   "metadata": {},
   "outputs": [
    {
     "data": {
      "text/plain": [
       "array(['CD', 'HYP', 'MI', 'NORM', 'STTC'], dtype='<U4')"
      ]
     },
     "execution_count": 30,
     "metadata": {},
     "output_type": "execute_result"
    }
   ],
   "source": [
    "X = data[0]\n",
    "Y = data[1]\n",
    "X = np.transpose(X, (0 , 2, 1))\n",
    "np.unique(Y)"
   ]
  },
  {
   "cell_type": "code",
   "execution_count": 31,
   "metadata": {},
   "outputs": [
    {
     "name": "stdout",
     "output_type": "stream",
     "text": [
      "(16244, 12, 1000)\n",
      "(16244,)\n"
     ]
    }
   ],
   "source": [
    "print(X.shape)\n",
    "print(Y.shape)"
   ]
  },
  {
   "cell_type": "code",
   "execution_count": 32,
   "metadata": {},
   "outputs": [
    {
     "name": "stdout",
     "output_type": "stream",
     "text": [
      "[3 3 3 ... 4 3 3]\n"
     ]
    }
   ],
   "source": [
    "# encode the labels\n",
    "label_encoder = LabelEncoder()\n",
    "encoded_labels = label_encoder.fit_transform(Y)\n",
    "print(encoded_labels)\n",
    "Y = to_categorical(encoded_labels)"
   ]
  },
  {
   "cell_type": "code",
   "execution_count": 33,
   "metadata": {},
   "outputs": [
    {
     "name": "stdout",
     "output_type": "stream",
     "text": [
      "[[-0.119 -0.116 -0.12  ...  0.069  0.086  0.022]\n",
      " [-0.055 -0.051 -0.044 ...  0.     0.004 -0.031]\n",
      " [ 0.064  0.065  0.076 ... -0.069 -0.081 -0.054]\n",
      " ...\n",
      " [-0.026 -0.031 -0.028 ...  0.024  0.242  0.143]\n",
      " [-0.039 -0.034 -0.029 ... -0.041 -0.046 -0.035]\n",
      " [-0.079 -0.074 -0.069 ... -0.058 -0.098 -0.12 ]]\n",
      "[0. 0. 0. 1. 0.]\n"
     ]
    }
   ],
   "source": [
    "print(X[0])\n",
    "print(Y[0])"
   ]
  },
  {
   "cell_type": "code",
   "execution_count": 34,
   "metadata": {},
   "outputs": [
    {
     "name": "stdout",
     "output_type": "stream",
     "text": [
      "(12995, 12, 1000)\n",
      "(12995, 5)\n",
      "(3249, 12, 1000)\n",
      "(3249, 5)\n"
     ]
    }
   ],
   "source": [
    "# divide the data into train and test\n",
    "from sklearn.model_selection import train_test_split\n",
    "\n",
    "X_train, X_test, Y_train, Y_test = train_test_split(X, Y, test_size=0.2, random_state=42)\n",
    "\n",
    "print(X_train.shape)\n",
    "print(Y_train.shape)\n",
    "print(X_test.shape)\n",
    "print(Y_test.shape)"
   ]
  },
  {
   "cell_type": "code",
   "execution_count": 35,
   "metadata": {},
   "outputs": [
    {
     "data": {
      "text/plain": [
       "array([[ 0.136,  0.145,  0.166, ..., -0.018, -0.029, -0.027],\n",
       "       [-0.004,  0.01 ,  0.044, ..., -0.047, -0.049, -0.051],\n",
       "       [-0.14 , -0.135, -0.122, ..., -0.03 , -0.02 , -0.024],\n",
       "       ...,\n",
       "       [ 0.175,  0.184,  0.221, ...,  0.016,  0.018,  0.032],\n",
       "       [-0.01 ,  0.002,  0.04 , ...,  0.159,  0.149,  0.145],\n",
       "       [-0.274, -0.263, -0.231, ..., -0.306, -0.316, -0.319]])"
      ]
     },
     "execution_count": 35,
     "metadata": {},
     "output_type": "execute_result"
    }
   ],
   "source": [
    "X_train[1]"
   ]
  },
  {
   "cell_type": "code",
   "execution_count": 36,
   "metadata": {},
   "outputs": [
    {
     "name": "stdout",
     "output_type": "stream",
     "text": [
      "(12995, 1000, 1)\n",
      "(3249, 1000, 1)\n"
     ]
    }
   ],
   "source": [
    "x_train_lead0 = X_train[:, 0, :]\n",
    "x_train_lead0 = x_train_lead0.reshape(x_train_lead0.shape[0], x_train_lead0.shape[1], 1)\n",
    "print(x_train_lead0.shape)\n",
    "\n",
    "x_test_lead0 = X_test[:, 0, :]\n",
    "x_test_lead0 = x_test_lead0.reshape(x_test_lead0.shape[0], x_test_lead0.shape[1], 1)\n",
    "print(x_test_lead0.shape)"
   ]
  },
  {
   "cell_type": "code",
   "execution_count": null,
   "metadata": {},
   "outputs": [],
   "source": []
  },
  {
   "cell_type": "code",
   "execution_count": 50,
   "metadata": {},
   "outputs": [],
   "source": []
  },
  {
   "cell_type": "code",
   "execution_count": 37,
   "metadata": {},
   "outputs": [],
   "source": [
    "def build_model():\n",
    "    model = Sequential()\n",
    "    model.add(Conv1D(filters=64, kernel_size=6, activation='relu', \n",
    "                    padding='same', input_shape=(1000, 1)))\n",
    "    model.add(BatchNormalization())\n",
    "\n",
    "    # adding a pooling layer\n",
    "    model.add(MaxPooling1D(pool_size=(3), strides=2, padding='same'))\n",
    "\n",
    "    model.add(Conv1D(filters=64, kernel_size=6, activation='relu', \n",
    "                    padding='same', input_shape=(1000, 1)))\n",
    "    model.add(BatchNormalization())\n",
    "    model.add(MaxPooling1D(pool_size=(3), strides=2, padding='same'))\n",
    "\n",
    "    model.add(Conv1D(filters=64, kernel_size=6, activation='relu', \n",
    "                    padding='same', input_shape=(1000, 1)))\n",
    "    model.add(BatchNormalization())\n",
    "    model.add(MaxPooling1D(pool_size=(3), strides=2, padding='same'))\n",
    "\n",
    "    model.add(Flatten())\n",
    "    model.add(Dense(64, activation='relu'))\n",
    "    model.add(Dropout(0.5))\n",
    "    model.add(Dense(64, activation='relu'))\n",
    "    model.add(Dropout(0.5))\n",
    "    model.add(Dense(5, activation='softmax'))\n",
    "\n",
    "    model.compile(loss='categorical_crossentropy', optimizer=Adam(learning_rate=0.00001), metrics=['accuracy'])\n",
    "\n",
    "    return model;"
   ]
  },
  {
   "cell_type": "code",
   "execution_count": 38,
   "metadata": {},
   "outputs": [
    {
     "name": "stderr",
     "output_type": "stream",
     "text": [
      "2024-04-02 21:36:58.712020: I external/local_xla/xla/stream_executor/cuda/cuda_executor.cc:901] successful NUMA node read from SysFS had negative value (-1), but there must be at least one NUMA node, so returning NUMA node zero. See more at https://github.com/torvalds/linux/blob/v6.0/Documentation/ABI/testing/sysfs-bus-pci#L344-L355\n",
      "2024-04-02 21:37:00.390145: I external/local_xla/xla/stream_executor/cuda/cuda_executor.cc:901] successful NUMA node read from SysFS had negative value (-1), but there must be at least one NUMA node, so returning NUMA node zero. See more at https://github.com/torvalds/linux/blob/v6.0/Documentation/ABI/testing/sysfs-bus-pci#L344-L355\n",
      "2024-04-02 21:37:00.390703: I external/local_xla/xla/stream_executor/cuda/cuda_executor.cc:901] successful NUMA node read from SysFS had negative value (-1), but there must be at least one NUMA node, so returning NUMA node zero. See more at https://github.com/torvalds/linux/blob/v6.0/Documentation/ABI/testing/sysfs-bus-pci#L344-L355\n",
      "2024-04-02 21:37:00.392825: I external/local_xla/xla/stream_executor/cuda/cuda_executor.cc:901] successful NUMA node read from SysFS had negative value (-1), but there must be at least one NUMA node, so returning NUMA node zero. See more at https://github.com/torvalds/linux/blob/v6.0/Documentation/ABI/testing/sysfs-bus-pci#L344-L355\n",
      "2024-04-02 21:37:00.393202: I external/local_xla/xla/stream_executor/cuda/cuda_executor.cc:901] successful NUMA node read from SysFS had negative value (-1), but there must be at least one NUMA node, so returning NUMA node zero. See more at https://github.com/torvalds/linux/blob/v6.0/Documentation/ABI/testing/sysfs-bus-pci#L344-L355\n",
      "2024-04-02 21:37:00.393499: I external/local_xla/xla/stream_executor/cuda/cuda_executor.cc:901] successful NUMA node read from SysFS had negative value (-1), but there must be at least one NUMA node, so returning NUMA node zero. See more at https://github.com/torvalds/linux/blob/v6.0/Documentation/ABI/testing/sysfs-bus-pci#L344-L355\n",
      "2024-04-02 21:37:00.492706: I external/local_xla/xla/stream_executor/cuda/cuda_executor.cc:901] successful NUMA node read from SysFS had negative value (-1), but there must be at least one NUMA node, so returning NUMA node zero. See more at https://github.com/torvalds/linux/blob/v6.0/Documentation/ABI/testing/sysfs-bus-pci#L344-L355\n",
      "2024-04-02 21:37:00.493008: I external/local_xla/xla/stream_executor/cuda/cuda_executor.cc:901] successful NUMA node read from SysFS had negative value (-1), but there must be at least one NUMA node, so returning NUMA node zero. See more at https://github.com/torvalds/linux/blob/v6.0/Documentation/ABI/testing/sysfs-bus-pci#L344-L355\n",
      "2024-04-02 21:37:00.493256: I external/local_xla/xla/stream_executor/cuda/cuda_executor.cc:901] successful NUMA node read from SysFS had negative value (-1), but there must be at least one NUMA node, so returning NUMA node zero. See more at https://github.com/torvalds/linux/blob/v6.0/Documentation/ABI/testing/sysfs-bus-pci#L344-L355\n",
      "2024-04-02 21:37:00.493445: I tensorflow/core/common_runtime/gpu/gpu_device.cc:1929] Created device /job:localhost/replica:0/task:0/device:GPU:0 with 2784 MB memory:  -> device: 0, name: NVIDIA GeForce GTX 1650, pci bus id: 0000:01:00.0, compute capability: 7.5\n"
     ]
    },
    {
     "name": "stdout",
     "output_type": "stream",
     "text": [
      "Model: \"sequential\"\n",
      "_________________________________________________________________\n",
      " Layer (type)                Output Shape              Param #   \n",
      "=================================================================\n",
      " conv1d (Conv1D)             (None, 1000, 64)          448       \n",
      "                                                                 \n",
      " batch_normalization (Batch  (None, 1000, 64)          256       \n",
      " Normalization)                                                  \n",
      "                                                                 \n",
      " max_pooling1d (MaxPooling1  (None, 500, 64)           0         \n",
      " D)                                                              \n",
      "                                                                 \n",
      " conv1d_1 (Conv1D)           (None, 500, 64)           24640     \n",
      "                                                                 \n",
      " batch_normalization_1 (Bat  (None, 500, 64)           256       \n",
      " chNormalization)                                                \n",
      "                                                                 \n",
      " max_pooling1d_1 (MaxPoolin  (None, 250, 64)           0         \n",
      " g1D)                                                            \n",
      "                                                                 \n",
      " conv1d_2 (Conv1D)           (None, 250, 64)           24640     \n",
      "                                                                 \n",
      " batch_normalization_2 (Bat  (None, 250, 64)           256       \n",
      " chNormalization)                                                \n",
      "                                                                 \n",
      " max_pooling1d_2 (MaxPoolin  (None, 125, 64)           0         \n",
      " g1D)                                                            \n",
      "                                                                 \n",
      " flatten (Flatten)           (None, 8000)              0         \n",
      "                                                                 \n",
      " dense (Dense)               (None, 64)                512064    \n",
      "                                                                 \n",
      " dropout (Dropout)           (None, 64)                0         \n",
      "                                                                 \n",
      " dense_1 (Dense)             (None, 64)                4160      \n",
      "                                                                 \n",
      " dropout_1 (Dropout)         (None, 64)                0         \n",
      "                                                                 \n",
      " dense_2 (Dense)             (None, 5)                 325       \n",
      "                                                                 \n",
      "=================================================================\n",
      "Total params: 567045 (2.16 MB)\n",
      "Trainable params: 566661 (2.16 MB)\n",
      "Non-trainable params: 384 (1.50 KB)\n",
      "_________________________________________________________________\n"
     ]
    }
   ],
   "source": [
    "model = build_model()\n",
    "model.summary()"
   ]
  },
  {
   "cell_type": "code",
   "execution_count": null,
   "metadata": {},
   "outputs": [],
   "source": [
    "model.fit(x_train_lead0, Y_train, epochs=20, batch_size=10, validation_data=(x_test_lead0, Y_test))"
   ]
  },
  {
   "cell_type": "code",
   "execution_count": 54,
   "metadata": {},
   "outputs": [
    {
     "name": "stderr",
     "output_type": "stream",
     "text": [
      "2024-03-30 22:46:09.798828: W external/local_tsl/tsl/framework/bfc_allocator.cc:296] Allocator (GPU_0_bfc) ran out of memory trying to allocate 3.04GiB with freed_by_count=0. The caller indicates that this is not a failure, but this may mean that there could be performance gains if more memory were available.\n",
      "2024-03-30 22:46:09.835814: W external/local_tsl/tsl/framework/bfc_allocator.cc:296] Allocator (GPU_0_bfc) ran out of memory trying to allocate 3.04GiB with freed_by_count=0. The caller indicates that this is not a failure, but this may mean that there could be performance gains if more memory were available.\n"
     ]
    },
    {
     "name": "stdout",
     "output_type": "stream",
     "text": [
      "102/102 [==============================] - 2s 7ms/step - loss: 1.1367 - accuracy: 0.5713\n",
      "Test loss: 1.1367450952529907\n",
      "Test accuracy: 0.571252703666687\n"
     ]
    }
   ],
   "source": [
    "# evaluate model\n",
    "loss, accuracy = model.evaluate(x_test_lead0, Y_test)\n",
    "print('Test loss:', loss)\n",
    "print('Test accuracy:', accuracy)"
   ]
  },
  {
   "cell_type": "code",
   "execution_count": 39,
   "metadata": {},
   "outputs": [
    {
     "name": "stderr",
     "output_type": "stream",
     "text": [
      "2024-04-02 21:40:19.278194: W external/local_tsl/tsl/framework/cpu_allocator_impl.cc:83] Allocation of 51980000 exceeds 10% of free system memory.\n"
     ]
    },
    {
     "name": "stdout",
     "output_type": "stream",
     "text": [
      "Epoch 1/20\n"
     ]
    },
    {
     "name": "stderr",
     "output_type": "stream",
     "text": [
      "2024-04-02 21:40:19.991022: W external/local_tsl/tsl/framework/cpu_allocator_impl.cc:83] Allocation of 51980000 exceeds 10% of free system memory.\n",
      "2024-04-02 21:40:23.949056: I external/local_xla/xla/stream_executor/cuda/cuda_dnn.cc:454] Loaded cuDNN version 8902\n",
      "2024-04-02 21:40:30.499571: I external/local_xla/xla/service/service.cc:168] XLA service 0x7b270ab14b90 initialized for platform CUDA (this does not guarantee that XLA will be used). Devices:\n",
      "2024-04-02 21:40:30.499640: I external/local_xla/xla/service/service.cc:176]   StreamExecutor device (0): NVIDIA GeForce GTX 1650, Compute Capability 7.5\n",
      "2024-04-02 21:40:30.672911: I tensorflow/compiler/mlir/tensorflow/utils/dump_mlir_util.cc:269] disabling MLIR crash reproducer, set env var `MLIR_CRASH_REPRODUCER_DIRECTORY` to enable.\n",
      "WARNING: All log messages before absl::InitializeLog() is called are written to STDERR\n",
      "I0000 00:00:1712074231.136205   13222 device_compiler.h:186] Compiled cluster using XLA!  This line is logged at most once for the lifetime of the process.\n"
     ]
    },
    {
     "name": "stdout",
     "output_type": "stream",
     "text": [
      "1300/1300 [==============================] - 30s 12ms/step - loss: 1.8543 - accuracy: 0.3562 - val_loss: 1.4035 - val_accuracy: 0.5279\n",
      "Epoch 2/20\n",
      "1300/1300 [==============================] - 15s 11ms/step - loss: 1.4979 - accuracy: 0.4424 - val_loss: 1.3559 - val_accuracy: 0.5516\n",
      "Epoch 3/20\n",
      "1300/1300 [==============================] - 15s 12ms/step - loss: 1.4191 - accuracy: 0.4871 - val_loss: 1.2920 - val_accuracy: 0.5522\n",
      "Epoch 4/20\n",
      "1300/1300 [==============================] - 15s 11ms/step - loss: 1.3639 - accuracy: 0.5107 - val_loss: 1.2504 - val_accuracy: 0.5531\n",
      "Epoch 5/20\n",
      "1300/1300 [==============================] - 15s 11ms/step - loss: 1.3374 - accuracy: 0.5194 - val_loss: 1.2385 - val_accuracy: 0.5531\n",
      "Epoch 6/20\n",
      "1300/1300 [==============================] - 15s 11ms/step - loss: 1.3016 - accuracy: 0.5299 - val_loss: 1.2187 - val_accuracy: 0.5546\n",
      "Epoch 7/20\n",
      "1300/1300 [==============================] - 15s 12ms/step - loss: 1.2697 - accuracy: 0.5376 - val_loss: 1.2121 - val_accuracy: 0.5537\n",
      "Epoch 8/20\n",
      "1300/1300 [==============================] - 15s 11ms/step - loss: 1.2485 - accuracy: 0.5424 - val_loss: 1.1995 - val_accuracy: 0.5531\n",
      "Epoch 9/20\n",
      "1300/1300 [==============================] - 14s 11ms/step - loss: 1.2438 - accuracy: 0.5420 - val_loss: 1.1968 - val_accuracy: 0.5552\n",
      "Epoch 10/20\n",
      "1300/1300 [==============================] - 14s 11ms/step - loss: 1.2208 - accuracy: 0.5483 - val_loss: 1.1803 - val_accuracy: 0.5568\n",
      "Epoch 11/20\n",
      "1300/1300 [==============================] - 15s 11ms/step - loss: 1.2018 - accuracy: 0.5491 - val_loss: 1.1776 - val_accuracy: 0.5574\n",
      "Epoch 12/20\n",
      "1300/1300 [==============================] - 15s 11ms/step - loss: 1.1808 - accuracy: 0.5540 - val_loss: 1.1707 - val_accuracy: 0.5577\n",
      "Epoch 13/20\n",
      "1300/1300 [==============================] - 14s 11ms/step - loss: 1.1678 - accuracy: 0.5586 - val_loss: 1.1695 - val_accuracy: 0.5586\n",
      "Epoch 14/20\n",
      "1300/1300 [==============================] - 15s 11ms/step - loss: 1.1602 - accuracy: 0.5583 - val_loss: 1.1623 - val_accuracy: 0.5623\n",
      "Epoch 15/20\n",
      "1300/1300 [==============================] - 14s 11ms/step - loss: 1.1479 - accuracy: 0.5641 - val_loss: 1.1567 - val_accuracy: 0.5629\n",
      "Epoch 16/20\n",
      "1300/1300 [==============================] - 14s 11ms/step - loss: 1.1339 - accuracy: 0.5705 - val_loss: 1.1490 - val_accuracy: 0.5722\n",
      "Epoch 17/20\n",
      "1300/1300 [==============================] - 13s 10ms/step - loss: 1.1243 - accuracy: 0.5722 - val_loss: 1.1405 - val_accuracy: 0.5786\n",
      "Epoch 18/20\n",
      "1300/1300 [==============================] - 13s 10ms/step - loss: 1.1120 - accuracy: 0.5751 - val_loss: 1.1425 - val_accuracy: 0.5765\n",
      "Epoch 19/20\n",
      "1300/1300 [==============================] - 13s 10ms/step - loss: 1.1035 - accuracy: 0.5812 - val_loss: 1.1343 - val_accuracy: 0.5811\n",
      "Epoch 20/20\n",
      "1300/1300 [==============================] - 13s 10ms/step - loss: 1.0848 - accuracy: 0.5835 - val_loss: 1.1278 - val_accuracy: 0.5842\n",
      " 30/102 [=======>......................] - ETA: 0s - loss: 1.1211 - accuracy: 0.5740"
     ]
    },
    {
     "name": "stderr",
     "output_type": "stream",
     "text": [
      "2024-04-02 21:45:23.799948: W external/local_tsl/tsl/framework/bfc_allocator.cc:296] Allocator (GPU_0_bfc) ran out of memory trying to allocate 3.04GiB with freed_by_count=0. The caller indicates that this is not a failure, but this may mean that there could be performance gains if more memory were available.\n",
      "2024-04-02 21:45:23.828137: W external/local_tsl/tsl/framework/bfc_allocator.cc:296] Allocator (GPU_0_bfc) ran out of memory trying to allocate 3.04GiB with freed_by_count=0. The caller indicates that this is not a failure, but this may mean that there could be performance gains if more memory were available.\n"
     ]
    },
    {
     "name": "stdout",
     "output_type": "stream",
     "text": [
      "102/102 [==============================] - 1s 10ms/step - loss: 1.1278 - accuracy: 0.5842\n",
      "Epoch 1/20\n"
     ]
    },
    {
     "name": "stderr",
     "output_type": "stream",
     "text": [
      "2024-04-02 21:45:25.066285: W external/local_tsl/tsl/framework/cpu_allocator_impl.cc:83] Allocation of 51980000 exceeds 10% of free system memory.\n",
      "2024-04-02 21:45:25.115233: W external/local_tsl/tsl/framework/cpu_allocator_impl.cc:83] Allocation of 51980000 exceeds 10% of free system memory.\n"
     ]
    },
    {
     "name": "stdout",
     "output_type": "stream",
     "text": [
      "1300/1300 [==============================] - 17s 10ms/step - loss: 2.1604 - accuracy: 0.2459 - val_loss: 1.3916 - val_accuracy: 0.5140\n",
      "Epoch 2/20\n",
      "1300/1300 [==============================] - 14s 11ms/step - loss: 1.6324 - accuracy: 0.3028 - val_loss: 1.3953 - val_accuracy: 0.5362\n",
      "Epoch 3/20\n",
      "1300/1300 [==============================] - 14s 10ms/step - loss: 1.5169 - accuracy: 0.3762 - val_loss: 1.3259 - val_accuracy: 0.5589\n",
      "Epoch 4/20\n",
      "1300/1300 [==============================] - 14s 11ms/step - loss: 1.4444 - accuracy: 0.4272 - val_loss: 1.2668 - val_accuracy: 0.5663\n",
      "Epoch 5/20\n",
      "1300/1300 [==============================] - 13s 10ms/step - loss: 1.3826 - accuracy: 0.4690 - val_loss: 1.2249 - val_accuracy: 0.5694\n",
      "Epoch 6/20\n",
      "1300/1300 [==============================] - 14s 11ms/step - loss: 1.3337 - accuracy: 0.4995 - val_loss: 1.1873 - val_accuracy: 0.5731\n",
      "Epoch 7/20\n",
      "1300/1300 [==============================] - 14s 11ms/step - loss: 1.2949 - accuracy: 0.5170 - val_loss: 1.1612 - val_accuracy: 0.5753\n",
      "Epoch 8/20\n",
      "1300/1300 [==============================] - 13s 10ms/step - loss: 1.2480 - accuracy: 0.5391 - val_loss: 1.1358 - val_accuracy: 0.5848\n",
      "Epoch 9/20\n",
      "1300/1300 [==============================] - 14s 10ms/step - loss: 1.2296 - accuracy: 0.5529 - val_loss: 1.1225 - val_accuracy: 0.5919\n",
      "Epoch 10/20\n",
      "1300/1300 [==============================] - 14s 11ms/step - loss: 1.2075 - accuracy: 0.5595 - val_loss: 1.1125 - val_accuracy: 0.5977\n",
      "Epoch 11/20\n",
      "1300/1300 [==============================] - 14s 11ms/step - loss: 1.1799 - accuracy: 0.5718 - val_loss: 1.1015 - val_accuracy: 0.6020\n",
      "Epoch 12/20\n",
      "1300/1300 [==============================] - 14s 10ms/step - loss: 1.1702 - accuracy: 0.5748 - val_loss: 1.0989 - val_accuracy: 0.6002\n",
      "Epoch 13/20\n",
      "1300/1300 [==============================] - 14s 10ms/step - loss: 1.1447 - accuracy: 0.5847 - val_loss: 1.0863 - val_accuracy: 0.6113\n",
      "Epoch 14/20\n",
      "1300/1300 [==============================] - 13s 10ms/step - loss: 1.1379 - accuracy: 0.5899 - val_loss: 1.0813 - val_accuracy: 0.6106\n",
      "Epoch 15/20\n",
      "1300/1300 [==============================] - 13s 10ms/step - loss: 1.1194 - accuracy: 0.5996 - val_loss: 1.0665 - val_accuracy: 0.6165\n",
      "Epoch 16/20\n",
      "1300/1300 [==============================] - 13s 10ms/step - loss: 1.1008 - accuracy: 0.6027 - val_loss: 1.0602 - val_accuracy: 0.6199\n",
      "Epoch 17/20\n",
      "1300/1300 [==============================] - 13s 10ms/step - loss: 1.0829 - accuracy: 0.6131 - val_loss: 1.0546 - val_accuracy: 0.6254\n",
      "Epoch 18/20\n",
      "1300/1300 [==============================] - 13s 10ms/step - loss: 1.0692 - accuracy: 0.6209 - val_loss: 1.0489 - val_accuracy: 0.6282\n",
      "Epoch 19/20\n",
      "1300/1300 [==============================] - 13s 10ms/step - loss: 1.0535 - accuracy: 0.6262 - val_loss: 1.0356 - val_accuracy: 0.6322\n",
      "Epoch 20/20\n",
      "1300/1300 [==============================] - 13s 10ms/step - loss: 1.0428 - accuracy: 0.6303 - val_loss: 1.0386 - val_accuracy: 0.6328\n",
      "102/102 [==============================] - 1s 6ms/step - loss: 1.0386 - accuracy: 0.6328\n",
      "Epoch 1/20\n"
     ]
    },
    {
     "name": "stderr",
     "output_type": "stream",
     "text": [
      "2024-04-02 21:49:59.969130: W external/local_tsl/tsl/framework/cpu_allocator_impl.cc:83] Allocation of 51980000 exceeds 10% of free system memory.\n"
     ]
    },
    {
     "name": "stdout",
     "output_type": "stream",
     "text": [
      "1300/1300 [==============================] - 17s 11ms/step - loss: 1.8223 - accuracy: 0.3320 - val_loss: 1.3218 - val_accuracy: 0.5303\n",
      "Epoch 2/20\n",
      "1300/1300 [==============================] - 14s 11ms/step - loss: 1.4475 - accuracy: 0.4298 - val_loss: 1.2938 - val_accuracy: 0.5457\n",
      "Epoch 3/20\n",
      "1300/1300 [==============================] - 14s 11ms/step - loss: 1.4062 - accuracy: 0.4569 - val_loss: 1.2776 - val_accuracy: 0.5512\n",
      "Epoch 4/20\n",
      "1300/1300 [==============================] - 14s 11ms/step - loss: 1.3670 - accuracy: 0.4907 - val_loss: 1.2695 - val_accuracy: 0.5503\n",
      "Epoch 5/20\n",
      "1300/1300 [==============================] - 14s 11ms/step - loss: 1.3400 - accuracy: 0.5021 - val_loss: 1.2498 - val_accuracy: 0.5512\n",
      "Epoch 6/20\n",
      "1300/1300 [==============================] - 14s 11ms/step - loss: 1.3197 - accuracy: 0.5122 - val_loss: 1.2461 - val_accuracy: 0.5509\n",
      "Epoch 7/20\n",
      "1300/1300 [==============================] - 13s 10ms/step - loss: 1.2885 - accuracy: 0.5214 - val_loss: 1.2362 - val_accuracy: 0.5516\n",
      "Epoch 8/20\n",
      "1300/1300 [==============================] - 14s 11ms/step - loss: 1.2824 - accuracy: 0.5286 - val_loss: 1.2353 - val_accuracy: 0.5512\n",
      "Epoch 9/20\n",
      "1300/1300 [==============================] - 14s 11ms/step - loss: 1.2661 - accuracy: 0.5311 - val_loss: 1.2346 - val_accuracy: 0.5509\n",
      "Epoch 10/20\n",
      "1300/1300 [==============================] - 14s 10ms/step - loss: 1.2531 - accuracy: 0.5360 - val_loss: 1.2179 - val_accuracy: 0.5509\n",
      "Epoch 11/20\n",
      "1300/1300 [==============================] - 13s 10ms/step - loss: 1.2385 - accuracy: 0.5387 - val_loss: 1.2210 - val_accuracy: 0.5522\n",
      "Epoch 12/20\n",
      "1300/1300 [==============================] - 14s 11ms/step - loss: 1.2212 - accuracy: 0.5461 - val_loss: 1.2172 - val_accuracy: 0.5543\n",
      "Epoch 13/20\n",
      "1300/1300 [==============================] - 14s 11ms/step - loss: 1.2154 - accuracy: 0.5473 - val_loss: 1.2181 - val_accuracy: 0.5531\n",
      "Epoch 14/20\n",
      "1300/1300 [==============================] - 14s 11ms/step - loss: 1.2014 - accuracy: 0.5530 - val_loss: 1.2134 - val_accuracy: 0.5546\n",
      "Epoch 15/20\n",
      "1300/1300 [==============================] - 13s 10ms/step - loss: 1.1919 - accuracy: 0.5521 - val_loss: 1.2130 - val_accuracy: 0.5562\n",
      "Epoch 16/20\n",
      "1300/1300 [==============================] - 13s 10ms/step - loss: 1.1782 - accuracy: 0.5558 - val_loss: 1.2092 - val_accuracy: 0.5599\n",
      "Epoch 17/20\n",
      "1300/1300 [==============================] - 13s 10ms/step - loss: 1.1668 - accuracy: 0.5594 - val_loss: 1.2054 - val_accuracy: 0.5629\n",
      "Epoch 18/20\n",
      "1300/1300 [==============================] - 13s 10ms/step - loss: 1.1537 - accuracy: 0.5642 - val_loss: 1.1988 - val_accuracy: 0.5596\n",
      "Epoch 19/20\n",
      "1300/1300 [==============================] - 14s 10ms/step - loss: 1.1488 - accuracy: 0.5678 - val_loss: 1.2018 - val_accuracy: 0.5620\n",
      "Epoch 20/20\n",
      "1300/1300 [==============================] - 14s 10ms/step - loss: 1.1409 - accuracy: 0.5637 - val_loss: 1.2070 - val_accuracy: 0.5633\n",
      "102/102 [==============================] - 1s 6ms/step - loss: 1.2070 - accuracy: 0.5633\n",
      "Epoch 1/20\n",
      "1300/1300 [==============================] - 17s 10ms/step - loss: 1.7185 - accuracy: 0.3767 - val_loss: 1.3400 - val_accuracy: 0.5439\n",
      "Epoch 2/20\n",
      "1300/1300 [==============================] - 13s 10ms/step - loss: 1.4503 - accuracy: 0.4533 - val_loss: 1.2986 - val_accuracy: 0.5549\n",
      "Epoch 3/20\n",
      "1300/1300 [==============================] - 13s 10ms/step - loss: 1.3736 - accuracy: 0.4913 - val_loss: 1.2556 - val_accuracy: 0.5629\n",
      "Epoch 4/20\n",
      "1300/1300 [==============================] - 13s 10ms/step - loss: 1.3139 - accuracy: 0.5103 - val_loss: 1.2059 - val_accuracy: 0.5617\n",
      "Epoch 5/20\n",
      "1300/1300 [==============================] - 13s 10ms/step - loss: 1.2868 - accuracy: 0.5280 - val_loss: 1.1704 - val_accuracy: 0.5685\n",
      "Epoch 6/20\n",
      "1300/1300 [==============================] - 13s 10ms/step - loss: 1.2505 - accuracy: 0.5380 - val_loss: 1.1561 - val_accuracy: 0.5657\n",
      "Epoch 7/20\n",
      "1300/1300 [==============================] - 13s 10ms/step - loss: 1.2287 - accuracy: 0.5460 - val_loss: 1.1409 - val_accuracy: 0.5749\n",
      "Epoch 8/20\n",
      "1300/1300 [==============================] - 13s 10ms/step - loss: 1.1972 - accuracy: 0.5606 - val_loss: 1.1258 - val_accuracy: 0.5780\n",
      "Epoch 9/20\n",
      "1300/1300 [==============================] - 13s 10ms/step - loss: 1.1802 - accuracy: 0.5582 - val_loss: 1.1072 - val_accuracy: 0.5842\n",
      "Epoch 10/20\n",
      "1300/1300 [==============================] - 13s 10ms/step - loss: 1.1715 - accuracy: 0.5681 - val_loss: 1.1004 - val_accuracy: 0.5913\n",
      "Epoch 11/20\n",
      "1300/1300 [==============================] - 13s 10ms/step - loss: 1.1460 - accuracy: 0.5770 - val_loss: 1.0847 - val_accuracy: 0.6002\n",
      "Epoch 12/20\n",
      "1300/1300 [==============================] - 13s 10ms/step - loss: 1.1263 - accuracy: 0.5815 - val_loss: 1.0652 - val_accuracy: 0.6153\n",
      "Epoch 13/20\n",
      "1300/1300 [==============================] - 13s 10ms/step - loss: 1.1082 - accuracy: 0.5821 - val_loss: 1.0601 - val_accuracy: 0.6177\n",
      "Epoch 14/20\n",
      "1300/1300 [==============================] - 13s 10ms/step - loss: 1.0940 - accuracy: 0.5898 - val_loss: 1.0514 - val_accuracy: 0.6282\n",
      "Epoch 15/20\n",
      "1300/1300 [==============================] - 13s 10ms/step - loss: 1.0790 - accuracy: 0.6011 - val_loss: 1.0449 - val_accuracy: 0.6365\n",
      "Epoch 16/20\n",
      "1300/1300 [==============================] - 13s 10ms/step - loss: 1.0629 - accuracy: 0.6016 - val_loss: 1.0288 - val_accuracy: 0.6414\n",
      "Epoch 17/20\n",
      "1300/1300 [==============================] - 13s 10ms/step - loss: 1.0654 - accuracy: 0.6007 - val_loss: 1.0338 - val_accuracy: 0.6350\n",
      "Epoch 18/20\n",
      "1300/1300 [==============================] - 13s 10ms/step - loss: 1.0396 - accuracy: 0.6074 - val_loss: 1.0186 - val_accuracy: 0.6482\n",
      "Epoch 19/20\n",
      "1300/1300 [==============================] - 13s 10ms/step - loss: 1.0315 - accuracy: 0.6125 - val_loss: 1.0154 - val_accuracy: 0.6488\n",
      "Epoch 20/20\n",
      "1300/1300 [==============================] - 13s 10ms/step - loss: 1.0163 - accuracy: 0.6195 - val_loss: 1.0034 - val_accuracy: 0.6547\n",
      "102/102 [==============================] - 1s 5ms/step - loss: 1.0034 - accuracy: 0.6547\n",
      "Epoch 1/20\n",
      "1300/1300 [==============================] - 16s 10ms/step - loss: 2.0084 - accuracy: 0.2336 - val_loss: 1.4607 - val_accuracy: 0.4728\n",
      "Epoch 2/20\n",
      "1300/1300 [==============================] - 13s 10ms/step - loss: 1.5654 - accuracy: 0.3527 - val_loss: 1.3859 - val_accuracy: 0.5312\n",
      "Epoch 3/20\n",
      "1300/1300 [==============================] - 13s 10ms/step - loss: 1.4785 - accuracy: 0.4245 - val_loss: 1.3357 - val_accuracy: 0.5460\n",
      "Epoch 4/20\n",
      "1300/1300 [==============================] - 13s 10ms/step - loss: 1.4193 - accuracy: 0.4661 - val_loss: 1.3063 - val_accuracy: 0.5485\n",
      "Epoch 5/20\n",
      "1300/1300 [==============================] - 13s 10ms/step - loss: 1.3864 - accuracy: 0.4876 - val_loss: 1.2791 - val_accuracy: 0.5500\n",
      "Epoch 6/20\n",
      "1300/1300 [==============================] - 13s 10ms/step - loss: 1.3594 - accuracy: 0.5057 - val_loss: 1.2637 - val_accuracy: 0.5537\n",
      "Epoch 7/20\n",
      "1300/1300 [==============================] - 13s 10ms/step - loss: 1.3197 - accuracy: 0.5138 - val_loss: 1.2392 - val_accuracy: 0.5645\n",
      "Epoch 8/20\n",
      "1300/1300 [==============================] - 13s 10ms/step - loss: 1.3052 - accuracy: 0.5272 - val_loss: 1.2322 - val_accuracy: 0.5626\n",
      "Epoch 9/20\n",
      "1300/1300 [==============================] - 13s 10ms/step - loss: 1.2778 - accuracy: 0.5393 - val_loss: 1.2141 - val_accuracy: 0.5709\n",
      "Epoch 10/20\n",
      "1300/1300 [==============================] - 13s 10ms/step - loss: 1.2567 - accuracy: 0.5467 - val_loss: 1.2002 - val_accuracy: 0.5713\n",
      "Epoch 11/20\n",
      "1300/1300 [==============================] - 13s 10ms/step - loss: 1.2458 - accuracy: 0.5518 - val_loss: 1.1900 - val_accuracy: 0.5737\n",
      "Epoch 12/20\n",
      "1300/1300 [==============================] - 13s 10ms/step - loss: 1.2402 - accuracy: 0.5577 - val_loss: 1.1864 - val_accuracy: 0.5749\n",
      "Epoch 13/20\n",
      "1300/1300 [==============================] - 13s 10ms/step - loss: 1.2250 - accuracy: 0.5560 - val_loss: 1.1834 - val_accuracy: 0.5771\n",
      "Epoch 14/20\n",
      "1300/1300 [==============================] - 13s 10ms/step - loss: 1.2015 - accuracy: 0.5630 - val_loss: 1.1787 - val_accuracy: 0.5756\n",
      "Epoch 15/20\n",
      "1300/1300 [==============================] - 13s 10ms/step - loss: 1.1940 - accuracy: 0.5656 - val_loss: 1.1712 - val_accuracy: 0.5811\n",
      "Epoch 16/20\n",
      "1300/1300 [==============================] - 13s 10ms/step - loss: 1.1813 - accuracy: 0.5743 - val_loss: 1.1647 - val_accuracy: 0.5808\n",
      "Epoch 17/20\n",
      "1300/1300 [==============================] - 13s 10ms/step - loss: 1.1582 - accuracy: 0.5782 - val_loss: 1.1589 - val_accuracy: 0.5820\n",
      "Epoch 18/20\n",
      "1300/1300 [==============================] - 13s 10ms/step - loss: 1.1605 - accuracy: 0.5815 - val_loss: 1.1591 - val_accuracy: 0.5817\n",
      "Epoch 19/20\n",
      "1300/1300 [==============================] - 13s 10ms/step - loss: 1.1439 - accuracy: 0.5816 - val_loss: 1.1502 - val_accuracy: 0.5839\n",
      "Epoch 20/20\n",
      "1300/1300 [==============================] - 13s 10ms/step - loss: 1.1413 - accuracy: 0.5812 - val_loss: 1.1541 - val_accuracy: 0.5854\n",
      "102/102 [==============================] - 1s 5ms/step - loss: 1.1541 - accuracy: 0.5854\n",
      "Epoch 1/20\n",
      "1300/1300 [==============================] - 16s 10ms/step - loss: 2.0931 - accuracy: 0.2553 - val_loss: 1.4163 - val_accuracy: 0.5014\n",
      "Epoch 2/20\n",
      "1300/1300 [==============================] - 19s 15ms/step - loss: 1.6062 - accuracy: 0.3204 - val_loss: 1.3696 - val_accuracy: 0.5469\n",
      "Epoch 3/20\n",
      "1300/1300 [==============================] - 14s 10ms/step - loss: 1.5055 - accuracy: 0.3894 - val_loss: 1.3277 - val_accuracy: 0.5540\n",
      "Epoch 4/20\n",
      "1300/1300 [==============================] - 13s 10ms/step - loss: 1.4471 - accuracy: 0.4320 - val_loss: 1.2780 - val_accuracy: 0.5583\n",
      "Epoch 5/20\n",
      "1300/1300 [==============================] - 14s 10ms/step - loss: 1.4024 - accuracy: 0.4685 - val_loss: 1.2517 - val_accuracy: 0.5559\n",
      "Epoch 6/20\n",
      "1300/1300 [==============================] - 13s 10ms/step - loss: 1.3650 - accuracy: 0.4880 - val_loss: 1.2365 - val_accuracy: 0.5540\n",
      "Epoch 7/20\n",
      "1300/1300 [==============================] - 14s 10ms/step - loss: 1.3338 - accuracy: 0.5022 - val_loss: 1.2251 - val_accuracy: 0.5565\n",
      "Epoch 8/20\n",
      "1300/1300 [==============================] - 13s 10ms/step - loss: 1.3101 - accuracy: 0.5210 - val_loss: 1.2087 - val_accuracy: 0.5636\n",
      "Epoch 9/20\n",
      "1300/1300 [==============================] - 13s 10ms/step - loss: 1.2841 - accuracy: 0.5224 - val_loss: 1.1894 - val_accuracy: 0.5688\n",
      "Epoch 10/20\n",
      "1300/1300 [==============================] - 14s 10ms/step - loss: 1.2582 - accuracy: 0.5353 - val_loss: 1.1800 - val_accuracy: 0.5725\n",
      "Epoch 11/20\n",
      "1300/1300 [==============================] - 14s 11ms/step - loss: 1.2468 - accuracy: 0.5407 - val_loss: 1.1742 - val_accuracy: 0.5734\n",
      "Epoch 12/20\n",
      "1300/1300 [==============================] - 13s 10ms/step - loss: 1.2273 - accuracy: 0.5497 - val_loss: 1.1702 - val_accuracy: 0.5719\n",
      "Epoch 13/20\n",
      "1300/1300 [==============================] - 14s 10ms/step - loss: 1.2231 - accuracy: 0.5507 - val_loss: 1.1613 - val_accuracy: 0.5783\n",
      "Epoch 14/20\n",
      "1300/1300 [==============================] - 19s 14ms/step - loss: 1.2031 - accuracy: 0.5572 - val_loss: 1.1570 - val_accuracy: 0.5746\n",
      "Epoch 15/20\n",
      "1300/1300 [==============================] - 14s 10ms/step - loss: 1.1913 - accuracy: 0.5597 - val_loss: 1.1533 - val_accuracy: 0.5817\n",
      "Epoch 16/20\n",
      "1300/1300 [==============================] - 14s 10ms/step - loss: 1.1796 - accuracy: 0.5673 - val_loss: 1.1461 - val_accuracy: 0.5882\n",
      "Epoch 17/20\n",
      "1300/1300 [==============================] - 13s 10ms/step - loss: 1.1702 - accuracy: 0.5620 - val_loss: 1.1436 - val_accuracy: 0.5857\n",
      "Epoch 18/20\n",
      "1300/1300 [==============================] - 13s 10ms/step - loss: 1.1493 - accuracy: 0.5736 - val_loss: 1.1374 - val_accuracy: 0.5928\n",
      "Epoch 19/20\n",
      "1300/1300 [==============================] - 13s 10ms/step - loss: 1.1356 - accuracy: 0.5778 - val_loss: 1.1301 - val_accuracy: 0.5940\n",
      "Epoch 20/20\n",
      "1300/1300 [==============================] - 13s 10ms/step - loss: 1.1308 - accuracy: 0.5800 - val_loss: 1.1368 - val_accuracy: 0.5900\n",
      "102/102 [==============================] - 1s 6ms/step - loss: 1.1368 - accuracy: 0.5900\n",
      "Epoch 1/20\n",
      "1300/1300 [==============================] - 16s 10ms/step - loss: 1.8390 - accuracy: 0.3109 - val_loss: 1.3733 - val_accuracy: 0.5112\n",
      "Epoch 2/20\n",
      "1300/1300 [==============================] - 13s 10ms/step - loss: 1.4851 - accuracy: 0.4140 - val_loss: 1.3210 - val_accuracy: 0.5451\n",
      "Epoch 3/20\n",
      "1300/1300 [==============================] - 13s 10ms/step - loss: 1.4360 - accuracy: 0.4523 - val_loss: 1.2997 - val_accuracy: 0.5596\n",
      "Epoch 4/20\n",
      "1300/1300 [==============================] - 14s 10ms/step - loss: 1.3949 - accuracy: 0.4840 - val_loss: 1.2790 - val_accuracy: 0.5556\n",
      "Epoch 5/20\n",
      "1300/1300 [==============================] - 13s 10ms/step - loss: 1.3647 - accuracy: 0.4950 - val_loss: 1.2593 - val_accuracy: 0.5608\n",
      "Epoch 6/20\n",
      "1300/1300 [==============================] - 13s 10ms/step - loss: 1.3247 - accuracy: 0.5164 - val_loss: 1.2337 - val_accuracy: 0.5716\n",
      "Epoch 7/20\n",
      "1300/1300 [==============================] - 13s 10ms/step - loss: 1.3117 - accuracy: 0.5264 - val_loss: 1.2332 - val_accuracy: 0.5722\n",
      "Epoch 8/20\n",
      "1300/1300 [==============================] - 13s 10ms/step - loss: 1.2922 - accuracy: 0.5322 - val_loss: 1.2257 - val_accuracy: 0.5722\n",
      "Epoch 9/20\n",
      "1300/1300 [==============================] - 14s 10ms/step - loss: 1.2739 - accuracy: 0.5415 - val_loss: 1.2159 - val_accuracy: 0.5793\n",
      "Epoch 10/20\n",
      "1300/1300 [==============================] - 13s 10ms/step - loss: 1.2553 - accuracy: 0.5517 - val_loss: 1.2053 - val_accuracy: 0.5829\n",
      "Epoch 11/20\n",
      "1300/1300 [==============================] - 13s 10ms/step - loss: 1.2326 - accuracy: 0.5554 - val_loss: 1.1931 - val_accuracy: 0.5836\n",
      "Epoch 12/20\n",
      "1300/1300 [==============================] - 13s 10ms/step - loss: 1.2201 - accuracy: 0.5664 - val_loss: 1.1806 - val_accuracy: 0.5857\n",
      "Epoch 13/20\n",
      "1300/1300 [==============================] - 13s 10ms/step - loss: 1.2098 - accuracy: 0.5659 - val_loss: 1.1756 - val_accuracy: 0.5885\n",
      "Epoch 14/20\n",
      "1300/1300 [==============================] - 13s 10ms/step - loss: 1.1994 - accuracy: 0.5778 - val_loss: 1.1644 - val_accuracy: 0.5910\n",
      "Epoch 15/20\n",
      "1300/1300 [==============================] - 13s 10ms/step - loss: 1.1857 - accuracy: 0.5803 - val_loss: 1.1615 - val_accuracy: 0.5903\n",
      "Epoch 16/20\n",
      "1300/1300 [==============================] - 14s 11ms/step - loss: 1.1670 - accuracy: 0.5821 - val_loss: 1.1576 - val_accuracy: 0.5919\n",
      "Epoch 17/20\n",
      "1300/1300 [==============================] - 14s 10ms/step - loss: 1.1624 - accuracy: 0.5855 - val_loss: 1.1536 - val_accuracy: 0.5928\n",
      "Epoch 18/20\n",
      "1300/1300 [==============================] - 13s 10ms/step - loss: 1.1510 - accuracy: 0.5865 - val_loss: 1.1513 - val_accuracy: 0.5925\n",
      "Epoch 19/20\n",
      "1300/1300 [==============================] - 13s 10ms/step - loss: 1.1373 - accuracy: 0.5895 - val_loss: 1.1511 - val_accuracy: 0.5931\n",
      "Epoch 20/20\n",
      "1300/1300 [==============================] - 13s 10ms/step - loss: 1.1303 - accuracy: 0.5883 - val_loss: 1.1480 - val_accuracy: 0.5931\n",
      "102/102 [==============================] - 1s 6ms/step - loss: 1.1480 - accuracy: 0.5931\n",
      "Epoch 1/20\n",
      "1300/1300 [==============================] - 17s 11ms/step - loss: 1.9415 - accuracy: 0.3155 - val_loss: 1.4264 - val_accuracy: 0.5100\n",
      "Epoch 2/20\n",
      "1300/1300 [==============================] - 19s 14ms/step - loss: 1.5244 - accuracy: 0.4075 - val_loss: 1.3712 - val_accuracy: 0.5463\n",
      "Epoch 3/20\n",
      "1300/1300 [==============================] - 14s 10ms/step - loss: 1.4498 - accuracy: 0.4544 - val_loss: 1.3232 - val_accuracy: 0.5516\n",
      "Epoch 4/20\n",
      "1300/1300 [==============================] - 13s 10ms/step - loss: 1.4023 - accuracy: 0.4850 - val_loss: 1.3021 - val_accuracy: 0.5512\n",
      "Epoch 5/20\n",
      "1300/1300 [==============================] - 14s 11ms/step - loss: 1.3798 - accuracy: 0.5025 - val_loss: 1.2847 - val_accuracy: 0.5522\n",
      "Epoch 6/20\n",
      "1300/1300 [==============================] - 13s 10ms/step - loss: 1.3460 - accuracy: 0.5192 - val_loss: 1.2621 - val_accuracy: 0.5528\n",
      "Epoch 7/20\n",
      "1300/1300 [==============================] - 13s 10ms/step - loss: 1.3270 - accuracy: 0.5234 - val_loss: 1.2513 - val_accuracy: 0.5528\n",
      "Epoch 8/20\n",
      "1300/1300 [==============================] - 13s 10ms/step - loss: 1.3091 - accuracy: 0.5313 - val_loss: 1.2369 - val_accuracy: 0.5537\n",
      "Epoch 9/20\n",
      "1300/1300 [==============================] - 13s 10ms/step - loss: 1.2904 - accuracy: 0.5361 - val_loss: 1.2316 - val_accuracy: 0.5562\n",
      "Epoch 10/20\n",
      "1300/1300 [==============================] - 13s 10ms/step - loss: 1.2764 - accuracy: 0.5371 - val_loss: 1.2230 - val_accuracy: 0.5552\n",
      "Epoch 11/20\n",
      "1300/1300 [==============================] - 13s 10ms/step - loss: 1.2490 - accuracy: 0.5433 - val_loss: 1.2127 - val_accuracy: 0.5589\n",
      "Epoch 12/20\n",
      "1300/1300 [==============================] - 13s 10ms/step - loss: 1.2514 - accuracy: 0.5463 - val_loss: 1.2154 - val_accuracy: 0.5633\n",
      "Epoch 13/20\n",
      "1300/1300 [==============================] - 13s 10ms/step - loss: 1.2312 - accuracy: 0.5519 - val_loss: 1.2095 - val_accuracy: 0.5654\n",
      "Epoch 14/20\n",
      "1300/1300 [==============================] - 13s 10ms/step - loss: 1.2163 - accuracy: 0.5545 - val_loss: 1.1978 - val_accuracy: 0.5666\n",
      "Epoch 15/20\n",
      "1300/1300 [==============================] - 13s 10ms/step - loss: 1.2016 - accuracy: 0.5597 - val_loss: 1.1939 - val_accuracy: 0.5728\n",
      "Epoch 16/20\n",
      "1300/1300 [==============================] - 13s 10ms/step - loss: 1.1947 - accuracy: 0.5598 - val_loss: 1.1883 - val_accuracy: 0.5743\n",
      "Epoch 17/20\n",
      "1300/1300 [==============================] - 13s 10ms/step - loss: 1.1803 - accuracy: 0.5644 - val_loss: 1.1802 - val_accuracy: 0.5799\n",
      "Epoch 18/20\n",
      "1300/1300 [==============================] - 19s 14ms/step - loss: 1.1705 - accuracy: 0.5633 - val_loss: 1.1833 - val_accuracy: 0.5793\n",
      "Epoch 19/20\n",
      "1300/1300 [==============================] - 13s 10ms/step - loss: 1.1602 - accuracy: 0.5697 - val_loss: 1.1687 - val_accuracy: 0.5925\n",
      "Epoch 20/20\n",
      "1300/1300 [==============================] - 13s 10ms/step - loss: 1.1456 - accuracy: 0.5772 - val_loss: 1.1649 - val_accuracy: 0.5928\n",
      "102/102 [==============================] - 1s 6ms/step - loss: 1.1649 - accuracy: 0.5928\n",
      "Epoch 1/20\n",
      "1300/1300 [==============================] - 16s 10ms/step - loss: 1.9481 - accuracy: 0.2907 - val_loss: 1.3712 - val_accuracy: 0.5248\n",
      "Epoch 2/20\n",
      "1300/1300 [==============================] - 20s 15ms/step - loss: 1.5018 - accuracy: 0.4045 - val_loss: 1.2912 - val_accuracy: 0.5549\n",
      "Epoch 3/20\n",
      "1300/1300 [==============================] - 13s 10ms/step - loss: 1.4204 - accuracy: 0.4685 - val_loss: 1.2575 - val_accuracy: 0.5540\n",
      "Epoch 4/20\n",
      "1300/1300 [==============================] - 13s 10ms/step - loss: 1.3770 - accuracy: 0.4920 - val_loss: 1.2201 - val_accuracy: 0.5586\n",
      "Epoch 5/20\n",
      "1300/1300 [==============================] - 19s 15ms/step - loss: 1.3538 - accuracy: 0.5060 - val_loss: 1.2197 - val_accuracy: 0.5626\n",
      "Epoch 6/20\n",
      "1300/1300 [==============================] - 12s 10ms/step - loss: 1.3256 - accuracy: 0.5169 - val_loss: 1.1925 - val_accuracy: 0.5639\n",
      "Epoch 7/20\n",
      "1300/1300 [==============================] - 13s 10ms/step - loss: 1.3047 - accuracy: 0.5255 - val_loss: 1.1978 - val_accuracy: 0.5679\n",
      "Epoch 8/20\n",
      "1300/1300 [==============================] - 18s 14ms/step - loss: 1.2870 - accuracy: 0.5359 - val_loss: 1.1799 - val_accuracy: 0.5666\n",
      "Epoch 9/20\n",
      "1300/1300 [==============================] - 13s 10ms/step - loss: 1.2615 - accuracy: 0.5460 - val_loss: 1.1765 - val_accuracy: 0.5728\n",
      "Epoch 10/20\n",
      "1300/1300 [==============================] - 13s 10ms/step - loss: 1.2557 - accuracy: 0.5456 - val_loss: 1.1685 - val_accuracy: 0.5709\n",
      "Epoch 11/20\n",
      "1300/1300 [==============================] - 19s 15ms/step - loss: 1.2465 - accuracy: 0.5532 - val_loss: 1.1624 - val_accuracy: 0.5762\n",
      "Epoch 12/20\n",
      "1300/1300 [==============================] - 13s 10ms/step - loss: 1.2284 - accuracy: 0.5573 - val_loss: 1.1650 - val_accuracy: 0.5756\n",
      "Epoch 13/20\n",
      "1300/1300 [==============================] - 18s 14ms/step - loss: 1.2091 - accuracy: 0.5606 - val_loss: 1.1638 - val_accuracy: 0.5765\n",
      "Epoch 14/20\n",
      "1300/1300 [==============================] - 13s 10ms/step - loss: 1.2070 - accuracy: 0.5626 - val_loss: 1.1564 - val_accuracy: 0.5737\n",
      "Epoch 15/20\n",
      "1300/1300 [==============================] - 13s 10ms/step - loss: 1.1885 - accuracy: 0.5698 - val_loss: 1.1537 - val_accuracy: 0.5799\n",
      "Epoch 16/20\n",
      "1300/1300 [==============================] - 13s 10ms/step - loss: 1.1772 - accuracy: 0.5750 - val_loss: 1.1455 - val_accuracy: 0.5823\n",
      "Epoch 17/20\n",
      "1300/1300 [==============================] - 12s 10ms/step - loss: 1.1663 - accuracy: 0.5757 - val_loss: 1.1438 - val_accuracy: 0.5783\n",
      "Epoch 18/20\n",
      "1300/1300 [==============================] - 12s 10ms/step - loss: 1.1465 - accuracy: 0.5775 - val_loss: 1.1443 - val_accuracy: 0.5836\n",
      "Epoch 19/20\n",
      "1300/1300 [==============================] - 19s 15ms/step - loss: 1.1453 - accuracy: 0.5827 - val_loss: 1.1353 - val_accuracy: 0.5888\n",
      "Epoch 20/20\n",
      "1300/1300 [==============================] - 13s 10ms/step - loss: 1.1342 - accuracy: 0.5831 - val_loss: 1.1348 - val_accuracy: 0.5906\n",
      "102/102 [==============================] - 1s 5ms/step - loss: 1.1348 - accuracy: 0.5906\n",
      "Epoch 1/20\n",
      "1300/1300 [==============================] - 23s 15ms/step - loss: 1.9404 - accuracy: 0.2946 - val_loss: 1.3720 - val_accuracy: 0.5319\n",
      "Epoch 2/20\n",
      "1300/1300 [==============================] - 13s 10ms/step - loss: 1.5472 - accuracy: 0.3758 - val_loss: 1.3094 - val_accuracy: 0.5516\n",
      "Epoch 3/20\n",
      "1300/1300 [==============================] - 13s 10ms/step - loss: 1.4438 - accuracy: 0.4386 - val_loss: 1.2551 - val_accuracy: 0.5583\n",
      "Epoch 4/20\n",
      "1300/1300 [==============================] - 13s 10ms/step - loss: 1.3863 - accuracy: 0.4746 - val_loss: 1.2222 - val_accuracy: 0.5626\n",
      "Epoch 5/20\n",
      "1300/1300 [==============================] - 13s 10ms/step - loss: 1.3526 - accuracy: 0.4973 - val_loss: 1.1971 - val_accuracy: 0.5654\n",
      "Epoch 6/20\n",
      "1300/1300 [==============================] - 19s 15ms/step - loss: 1.3100 - accuracy: 0.5125 - val_loss: 1.1829 - val_accuracy: 0.5700\n",
      "Epoch 7/20\n",
      "1300/1300 [==============================] - 13s 10ms/step - loss: 1.2892 - accuracy: 0.5254 - val_loss: 1.1685 - val_accuracy: 0.5734\n",
      "Epoch 8/20\n",
      "1300/1300 [==============================] - 13s 10ms/step - loss: 1.2597 - accuracy: 0.5347 - val_loss: 1.1619 - val_accuracy: 0.5753\n",
      "Epoch 9/20\n",
      "1300/1300 [==============================] - 13s 10ms/step - loss: 1.2417 - accuracy: 0.5494 - val_loss: 1.1504 - val_accuracy: 0.5829\n",
      "Epoch 10/20\n",
      "1300/1300 [==============================] - 18s 14ms/step - loss: 1.2290 - accuracy: 0.5538 - val_loss: 1.1452 - val_accuracy: 0.5848\n",
      "Epoch 11/20\n",
      "1300/1300 [==============================] - 13s 10ms/step - loss: 1.2218 - accuracy: 0.5521 - val_loss: 1.1341 - val_accuracy: 0.5842\n",
      "Epoch 12/20\n",
      "1300/1300 [==============================] - 13s 10ms/step - loss: 1.2026 - accuracy: 0.5645 - val_loss: 1.1304 - val_accuracy: 0.5863\n",
      "Epoch 13/20\n",
      "1300/1300 [==============================] - 19s 14ms/step - loss: 1.1850 - accuracy: 0.5666 - val_loss: 1.1145 - val_accuracy: 0.5934\n",
      "Epoch 14/20\n",
      "1300/1300 [==============================] - 13s 10ms/step - loss: 1.1760 - accuracy: 0.5703 - val_loss: 1.1131 - val_accuracy: 0.5934\n",
      "Epoch 15/20\n",
      "1300/1300 [==============================] - 19s 15ms/step - loss: 1.1605 - accuracy: 0.5739 - val_loss: 1.1619 - val_accuracy: 0.5814\n",
      "Epoch 16/20\n",
      "1300/1300 [==============================] - 13s 10ms/step - loss: 1.1528 - accuracy: 0.5751 - val_loss: 1.1325 - val_accuracy: 0.5888\n",
      "Epoch 17/20\n",
      "1300/1300 [==============================] - 13s 10ms/step - loss: 1.1278 - accuracy: 0.5783 - val_loss: 1.0920 - val_accuracy: 0.6020\n",
      "Epoch 18/20\n",
      "1300/1300 [==============================] - 13s 10ms/step - loss: 1.1253 - accuracy: 0.5859 - val_loss: 1.0892 - val_accuracy: 0.6070\n",
      "Epoch 19/20\n",
      "1300/1300 [==============================] - 18s 14ms/step - loss: 1.1123 - accuracy: 0.5894 - val_loss: 1.0760 - val_accuracy: 0.6116\n",
      "Epoch 20/20\n",
      "1300/1300 [==============================] - 13s 10ms/step - loss: 1.1018 - accuracy: 0.5934 - val_loss: 1.0842 - val_accuracy: 0.6057\n",
      "102/102 [==============================] - 1s 6ms/step - loss: 1.0842 - accuracy: 0.6057\n",
      "Epoch 1/20\n",
      "1300/1300 [==============================] - 16s 10ms/step - loss: 1.7877 - accuracy: 0.3269 - val_loss: 1.3543 - val_accuracy: 0.5396\n",
      "Epoch 2/20\n",
      "1300/1300 [==============================] - 13s 10ms/step - loss: 1.4858 - accuracy: 0.4064 - val_loss: 1.2995 - val_accuracy: 0.5589\n",
      "Epoch 3/20\n",
      "1300/1300 [==============================] - 13s 10ms/step - loss: 1.4087 - accuracy: 0.4608 - val_loss: 1.2366 - val_accuracy: 0.5660\n",
      "Epoch 4/20\n",
      "1300/1300 [==============================] - 13s 10ms/step - loss: 1.3505 - accuracy: 0.4843 - val_loss: 1.2020 - val_accuracy: 0.5676\n",
      "Epoch 5/20\n",
      "1300/1300 [==============================] - 18s 14ms/step - loss: 1.3157 - accuracy: 0.5140 - val_loss: 1.1661 - val_accuracy: 0.5725\n",
      "Epoch 6/20\n",
      "1300/1300 [==============================] - 19s 15ms/step - loss: 1.2740 - accuracy: 0.5331 - val_loss: 1.1534 - val_accuracy: 0.5753\n",
      "Epoch 7/20\n",
      "1300/1300 [==============================] - 13s 10ms/step - loss: 1.2537 - accuracy: 0.5427 - val_loss: 1.1364 - val_accuracy: 0.5759\n",
      "Epoch 8/20\n",
      "1300/1300 [==============================] - 13s 10ms/step - loss: 1.2185 - accuracy: 0.5554 - val_loss: 1.1179 - val_accuracy: 0.5799\n",
      "Epoch 9/20\n",
      "1300/1300 [==============================] - 12s 10ms/step - loss: 1.2067 - accuracy: 0.5588 - val_loss: 1.1041 - val_accuracy: 0.5863\n",
      "Epoch 10/20\n",
      "1300/1300 [==============================] - 13s 10ms/step - loss: 1.1848 - accuracy: 0.5657 - val_loss: 1.1008 - val_accuracy: 0.5900\n",
      "Epoch 11/20\n",
      "1300/1300 [==============================] - 19s 15ms/step - loss: 1.1686 - accuracy: 0.5751 - val_loss: 1.0855 - val_accuracy: 0.5965\n",
      "Epoch 12/20\n",
      "1300/1300 [==============================] - 13s 10ms/step - loss: 1.1527 - accuracy: 0.5778 - val_loss: 1.0804 - val_accuracy: 0.5956\n",
      "Epoch 13/20\n",
      "1300/1300 [==============================] - 18s 14ms/step - loss: 1.1289 - accuracy: 0.5852 - val_loss: 1.0688 - val_accuracy: 0.6094\n",
      "Epoch 14/20\n",
      "1300/1300 [==============================] - 13s 10ms/step - loss: 1.1183 - accuracy: 0.5940 - val_loss: 1.0568 - val_accuracy: 0.6153\n",
      "Epoch 15/20\n",
      "1300/1300 [==============================] - 18s 14ms/step - loss: 1.1057 - accuracy: 0.5928 - val_loss: 1.0510 - val_accuracy: 0.6180\n",
      "Epoch 16/20\n",
      "1300/1300 [==============================] - 13s 10ms/step - loss: 1.0952 - accuracy: 0.6045 - val_loss: 1.0434 - val_accuracy: 0.6276\n",
      "Epoch 17/20\n",
      "1300/1300 [==============================] - 20s 16ms/step - loss: 1.0819 - accuracy: 0.6044 - val_loss: 1.0383 - val_accuracy: 0.6217\n",
      "Epoch 18/20\n",
      "1300/1300 [==============================] - 13s 10ms/step - loss: 1.0716 - accuracy: 0.6088 - val_loss: 1.0326 - val_accuracy: 0.6331\n",
      "Epoch 19/20\n",
      "1300/1300 [==============================] - 14s 11ms/step - loss: 1.0562 - accuracy: 0.6166 - val_loss: 1.0302 - val_accuracy: 0.6310\n",
      "Epoch 20/20\n",
      "1300/1300 [==============================] - 14s 10ms/step - loss: 1.0506 - accuracy: 0.6137 - val_loss: 1.0255 - val_accuracy: 0.6402\n",
      "102/102 [==============================] - 1s 5ms/step - loss: 1.0255 - accuracy: 0.6402\n",
      "Epoch 1/20\n",
      "1300/1300 [==============================] - 16s 10ms/step - loss: 1.9016 - accuracy: 0.3095 - val_loss: 1.3390 - val_accuracy: 0.5420\n",
      "Epoch 2/20\n",
      "1300/1300 [==============================] - 13s 10ms/step - loss: 1.4749 - accuracy: 0.4106 - val_loss: 1.2760 - val_accuracy: 0.5608\n",
      "Epoch 3/20\n",
      "1300/1300 [==============================] - 13s 10ms/step - loss: 1.3990 - accuracy: 0.4636 - val_loss: 1.2226 - val_accuracy: 0.5633\n",
      "Epoch 4/20\n",
      "1300/1300 [==============================] - 13s 10ms/step - loss: 1.3360 - accuracy: 0.4999 - val_loss: 1.1640 - val_accuracy: 0.5654\n",
      "Epoch 5/20\n",
      "1300/1300 [==============================] - 18s 14ms/step - loss: 1.2874 - accuracy: 0.5207 - val_loss: 1.1465 - val_accuracy: 0.5722\n",
      "Epoch 6/20\n",
      "1300/1300 [==============================] - 12s 10ms/step - loss: 1.2565 - accuracy: 0.5407 - val_loss: 1.1308 - val_accuracy: 0.5753\n",
      "Epoch 7/20\n",
      "1300/1300 [==============================] - 13s 10ms/step - loss: 1.2324 - accuracy: 0.5457 - val_loss: 1.1614 - val_accuracy: 0.5669\n",
      "Epoch 8/20\n",
      "1300/1300 [==============================] - 12s 10ms/step - loss: 1.2093 - accuracy: 0.5550 - val_loss: 1.1012 - val_accuracy: 0.5851\n",
      "Epoch 9/20\n",
      "1300/1300 [==============================] - 18s 14ms/step - loss: 1.1798 - accuracy: 0.5639 - val_loss: 1.0869 - val_accuracy: 0.5922\n",
      "Epoch 10/20\n",
      "1300/1300 [==============================] - 13s 10ms/step - loss: 1.1611 - accuracy: 0.5753 - val_loss: 1.0667 - val_accuracy: 0.6014\n",
      "Epoch 11/20\n",
      "1300/1300 [==============================] - 13s 10ms/step - loss: 1.1537 - accuracy: 0.5804 - val_loss: 1.0555 - val_accuracy: 0.6159\n",
      "Epoch 12/20\n",
      "1300/1300 [==============================] - 18s 14ms/step - loss: 1.1354 - accuracy: 0.5902 - val_loss: 1.0364 - val_accuracy: 0.6251\n",
      "Epoch 13/20\n",
      "1300/1300 [==============================] - 13s 10ms/step - loss: 1.1167 - accuracy: 0.6032 - val_loss: 1.0228 - val_accuracy: 0.6371\n",
      "Epoch 14/20\n",
      "1300/1300 [==============================] - 12s 10ms/step - loss: 1.0869 - accuracy: 0.6055 - val_loss: 1.0049 - val_accuracy: 0.6417\n",
      "Epoch 15/20\n",
      "1300/1300 [==============================] - 19s 15ms/step - loss: 1.0763 - accuracy: 0.6164 - val_loss: 0.9929 - val_accuracy: 0.6522\n",
      "Epoch 16/20\n",
      "1300/1300 [==============================] - 13s 10ms/step - loss: 1.0612 - accuracy: 0.6196 - val_loss: 0.9836 - val_accuracy: 0.6525\n",
      "Epoch 17/20\n",
      "1300/1300 [==============================] - 13s 10ms/step - loss: 1.0467 - accuracy: 0.6302 - val_loss: 1.0026 - val_accuracy: 0.6380\n",
      "Epoch 18/20\n",
      "1300/1300 [==============================] - 18s 14ms/step - loss: 1.0511 - accuracy: 0.6279 - val_loss: 0.9695 - val_accuracy: 0.6587\n",
      "Epoch 19/20\n",
      "1300/1300 [==============================] - 13s 10ms/step - loss: 1.0311 - accuracy: 0.6343 - val_loss: 0.9867 - val_accuracy: 0.6497\n",
      "Epoch 20/20\n",
      "1300/1300 [==============================] - 13s 10ms/step - loss: 1.0068 - accuracy: 0.6415 - val_loss: 1.0394 - val_accuracy: 0.6214\n",
      "102/102 [==============================] - 1s 5ms/step - loss: 1.0394 - accuracy: 0.6214\n",
      "[0.5841797590255737, 0.632810115814209, 0.5632502436637878, 0.6546629667282104, 0.5854108929634094, 0.5900276899337769, 0.5931055545806885, 0.5927977561950684, 0.5906432867050171, 0.6057248115539551, 0.6401969790458679, 0.6214219927787781]\n"
     ]
    }
   ],
   "source": [
    "# write a function to perform the classification for every lead in 12 lead ECG, and plot a table of the results, the rows will contain the lead names and its index and the columns will contain the testing accuracy\n",
    "def classify_all_leads(X_train, Y_train, X_test, Y_test):\n",
    "    accuracy = []\n",
    "    for i in range(12):\n",
    "        x_train_lead = X_train[:, i, :]\n",
    "        x_train_lead = x_train_lead.reshape(x_train_lead.shape[0], x_train_lead.shape[1], 1)\n",
    "        x_test_lead = X_test[:, i, :]\n",
    "        x_test_lead = x_test_lead.reshape(x_test_lead.shape[0], x_test_lead.shape[1], 1)\n",
    "        model = build_model()\n",
    "        model.fit(x_train_lead, Y_train, epochs=20, batch_size=10, validation_data=(x_test_lead, Y_test))\n",
    "        loss, acc = model.evaluate(x_test_lead, Y_test)\n",
    "        accuracy.append(acc)\n",
    "    return accuracy\n",
    "\n",
    "accuracy = classify_all_leads(X_train, Y_train, X_test, Y_test)\n",
    "print(accuracy)"
   ]
  },
  {
   "cell_type": "code",
   "execution_count": 69,
   "metadata": {},
   "outputs": [
    {
     "data": {
      "image/png": "[encoded data removed]",
      "text/plain": [
       "<Figure size 2000x600 with 1 Axes>"
      ]
     },
     "metadata": {},
     "output_type": "display_data"
    }
   ],
   "source": [
    "accuracy = [round(acc, 3) for acc in accuracy]\n",
    "\n",
    "fig, ax = plt.subplots(figsize=(20, 6))\n",
    "ax.axis('off')\n",
    "table = ax.table(cellText=accuracy_table.values, colLabels=accuracy_table.columns, loc='center')\n",
    "table.auto_set_font_size(False)\n",
    "table.set_fontsize(10)\n",
    "\n",
    "plt.show()"
   ]
  },
  {
   "cell_type": "code",
   "execution_count": 71,
   "metadata": {},
   "outputs": [
    {
     "data": {
      "text/html": [
       "<div>\n",
       "<style scoped>\n",
       "    .dataframe tbody tr th:only-of-type {\n",
       "        vertical-align: middle;\n",
       "    }\n",
       "\n",
       "    .dataframe tbody tr th {\n",
       "        vertical-align: top;\n",
       "    }\n",
       "\n",
       "    .dataframe thead th {\n",
       "        text-align: right;\n",
       "    }\n",
       "</style>\n",
       "<table border=\"1\" class=\"dataframe\">\n",
       "  <thead>\n",
       "    <tr style=\"text-align: right;\">\n",
       "      <th></th>\n",
       "      <th>Lead Index</th>\n",
       "      <th>Lead Name</th>\n",
       "      <th>Accuracy</th>\n",
       "    </tr>\n",
       "  </thead>\n",
       "  <tbody>\n",
       "    <tr>\n",
       "      <th>0</th>\n",
       "      <td>0</td>\n",
       "      <td>Lead I</td>\n",
       "      <td>0.584</td>\n",
       "    </tr>\n",
       "    <tr>\n",
       "      <th>1</th>\n",
       "      <td>1</td>\n",
       "      <td>Lead II</td>\n",
       "      <td>0.633</td>\n",
       "    </tr>\n",
       "    <tr>\n",
       "      <th>2</th>\n",
       "      <td>2</td>\n",
       "      <td>Lead III</td>\n",
       "      <td>0.563</td>\n",
       "    </tr>\n",
       "    <tr>\n",
       "      <th>3</th>\n",
       "      <td>3</td>\n",
       "      <td>Lead aVR</td>\n",
       "      <td>0.655</td>\n",
       "    </tr>\n",
       "    <tr>\n",
       "      <th>4</th>\n",
       "      <td>4</td>\n",
       "      <td>Lead aVL</td>\n",
       "      <td>0.585</td>\n",
       "    </tr>\n",
       "    <tr>\n",
       "      <th>5</th>\n",
       "      <td>5</td>\n",
       "      <td>Lead aVF</td>\n",
       "      <td>0.590</td>\n",
       "    </tr>\n",
       "    <tr>\n",
       "      <th>6</th>\n",
       "      <td>6</td>\n",
       "      <td>Lead V1</td>\n",
       "      <td>0.593</td>\n",
       "    </tr>\n",
       "    <tr>\n",
       "      <th>7</th>\n",
       "      <td>7</td>\n",
       "      <td>Lead V2</td>\n",
       "      <td>0.593</td>\n",
       "    </tr>\n",
       "    <tr>\n",
       "      <th>8</th>\n",
       "      <td>8</td>\n",
       "      <td>Lead V3</td>\n",
       "      <td>0.591</td>\n",
       "    </tr>\n",
       "    <tr>\n",
       "      <th>9</th>\n",
       "      <td>9</td>\n",
       "      <td>Lead V4</td>\n",
       "      <td>0.606</td>\n",
       "    </tr>\n",
       "    <tr>\n",
       "      <th>10</th>\n",
       "      <td>10</td>\n",
       "      <td>Lead V5</td>\n",
       "      <td>0.640</td>\n",
       "    </tr>\n",
       "    <tr>\n",
       "      <th>11</th>\n",
       "      <td>11</td>\n",
       "      <td>Lead V6</td>\n",
       "      <td>0.621</td>\n",
       "    </tr>\n",
       "  </tbody>\n",
       "</table>\n",
       "</div>"
      ],
      "text/plain": [
       "    Lead Index Lead Name  Accuracy\n",
       "0            0    Lead I     0.584\n",
       "1            1   Lead II     0.633\n",
       "2            2  Lead III     0.563\n",
       "3            3  Lead aVR     0.655\n",
       "4            4  Lead aVL     0.585\n",
       "5            5  Lead aVF     0.590\n",
       "6            6   Lead V1     0.593\n",
       "7            7   Lead V2     0.593\n",
       "8            8   Lead V3     0.591\n",
       "9            9   Lead V4     0.606\n",
       "10          10   Lead V5     0.640\n",
       "11          11   Lead V6     0.621"
      ]
     },
     "execution_count": 71,
     "metadata": {},
     "output_type": "execute_result"
    }
   ],
   "source": [
    "# create a dataframe of accuracies\n",
    "lead_names = ['Lead I', 'Lead II', 'Lead III', 'Lead aVR', 'Lead aVL', 'Lead aVF', 'Lead V1', 'Lead V2', 'Lead V3', 'Lead V4', 'Lead V5', 'Lead V6']\n",
    "accuracy_table = pd.DataFrame(accuracy, columns=['Accuracy'])\n",
    "accuracy_table['Lead Index'] = range(12)\n",
    "accuracy_table['Lead Name'] = lead_names\n",
    "accuracy_table = accuracy_table[['Lead Index', 'Lead Name', 'Accuracy']]\n",
    "accuracy_table"
   ]
  },
  {
   "cell_type": "code",
   "execution_count": null,
   "metadata": {},
   "outputs": [],
   "source": []
  },
  {
   "cell_type": "markdown",
   "metadata": {},
   "source": [
    "## Gradient Boosting Classifier"
   ]
  },
  {
   "cell_type": "code",
   "execution_count": null,
   "metadata": {},
   "outputs": [],
   "source": [
    "from sklearn.ensemble import GradientBoostingClassifier\n",
    "from sklearn.metrics import accuracy_score\n",
    "\n",
    "clf = GradientBoostingClassifier(n_estimators=100, learning_rate=0.1, max_depth=3, random_state=42)\n",
    "clf.fit(x_train_lead0, Y_train)\n",
    "\n",
    "predictions = clf.predict(x_test_lead0)\n",
    "\n"
   ]
  },
  {
   "cell_type": "code",
   "execution_count": 99,
   "metadata": {},
   "outputs": [
    {
     "name": "stdout",
     "output_type": "stream",
     "text": [
      "Test Score: 0.5774084333641121\n"
     ]
    }
   ],
   "source": [
    "rounded_labels = np.argmax(Y_test, axis=1)\n",
    "accuracy = accuracy_score(rounded_labels, predictions)\n",
    "print(f\"Test Score: {accuracy}\")"
   ]
  },
  {
   "cell_type": "markdown",
   "metadata": {},
   "source": [
    "### Using multiple leads"
   ]
  },
  {
   "cell_type": "code",
   "execution_count": 56,
   "metadata": {},
   "outputs": [
    {
     "name": "stdout",
     "output_type": "stream",
     "text": [
      "(12995, 4, 1000)\n",
      "(3249, 4, 1000)\n"
     ]
    }
   ],
   "source": [
    "# use leads 1, 3, 5 and 11 combined for training and testing\n",
    "x_train_lead13511 = X_train[:, [1, 3, 5, 11], :]\n",
    "x_train_lead13511 = x_train_lead13511.reshape(x_train_lead13511.shape[0], 4, x_train_lead13511.shape[2])\n",
    "print(x_train_lead13511.shape)\n",
    "\n",
    "x_test_lead13511 = X_test[:, [1, 3, 5, 11], :]\n",
    "x_test_lead13511 = x_test_lead13511.reshape(x_test_lead13511.shape[0], 4, x_test_lead13511.shape[2])\n",
    "print(x_test_lead13511.shape)\n"
   ]
  },
  {
   "cell_type": "markdown",
   "metadata": {},
   "source": [
    "Using Leads : 2, 4, 6 and 12"
   ]
  },
  {
   "cell_type": "code",
   "execution_count": 59,
   "metadata": {},
   "outputs": [
    {
     "name": "stdout",
     "output_type": "stream",
     "text": [
      "Epoch 1/20\n",
      "1300/1300 [==============================] - 26s 10ms/step - loss: 1.2415 - accuracy: 0.5580 - val_loss: 1.2648 - val_accuracy: 0.5565\n",
      "Epoch 2/20\n",
      "1300/1300 [==============================] - 11s 9ms/step - loss: 1.1919 - accuracy: 0.5708 - val_loss: 1.2399 - val_accuracy: 0.5571\n",
      "Epoch 3/20\n",
      "1300/1300 [==============================] - 12s 9ms/step - loss: 1.1457 - accuracy: 0.5825 - val_loss: 1.2708 - val_accuracy: 0.5580\n",
      "Epoch 4/20\n",
      "1300/1300 [==============================] - 12s 9ms/step - loss: 1.0839 - accuracy: 0.5993 - val_loss: 1.2623 - val_accuracy: 0.5633\n",
      "Epoch 5/20\n",
      "1300/1300 [==============================] - 12s 9ms/step - loss: 1.0107 - accuracy: 0.6226 - val_loss: 1.2794 - val_accuracy: 0.5556\n",
      "Epoch 6/20\n",
      "1300/1300 [==============================] - 12s 9ms/step - loss: 0.9220 - accuracy: 0.6593 - val_loss: 1.3114 - val_accuracy: 0.5257\n",
      "Epoch 7/20\n",
      "1300/1300 [==============================] - 12s 9ms/step - loss: 0.8160 - accuracy: 0.7004 - val_loss: 1.3712 - val_accuracy: 0.5349\n",
      "Epoch 8/20\n",
      "1300/1300 [==============================] - 12s 9ms/step - loss: 0.7104 - accuracy: 0.7434 - val_loss: 1.4970 - val_accuracy: 0.5229\n",
      "Epoch 9/20\n",
      "1300/1300 [==============================] - 12s 9ms/step - loss: 0.6293 - accuracy: 0.7730 - val_loss: 1.6200 - val_accuracy: 0.5451\n",
      "Epoch 10/20\n",
      "1300/1300 [==============================] - 12s 9ms/step - loss: 0.5352 - accuracy: 0.8129 - val_loss: 1.6860 - val_accuracy: 0.5205\n",
      "Epoch 11/20\n",
      "1300/1300 [==============================] - 12s 9ms/step - loss: 0.4798 - accuracy: 0.8292 - val_loss: 1.6970 - val_accuracy: 0.4814\n",
      "Epoch 12/20\n",
      "1300/1300 [==============================] - 12s 9ms/step - loss: 0.4353 - accuracy: 0.8439 - val_loss: 1.8874 - val_accuracy: 0.5432\n",
      "Epoch 13/20\n",
      "1300/1300 [==============================] - 12s 9ms/step - loss: 0.3919 - accuracy: 0.8623 - val_loss: 1.8888 - val_accuracy: 0.4931\n",
      "Epoch 14/20\n",
      "1300/1300 [==============================] - 12s 9ms/step - loss: 0.3508 - accuracy: 0.8743 - val_loss: 2.2165 - val_accuracy: 0.5417\n",
      "Epoch 15/20\n",
      "1300/1300 [==============================] - 12s 9ms/step - loss: 0.3282 - accuracy: 0.8823 - val_loss: 2.1989 - val_accuracy: 0.4974\n",
      "Epoch 16/20\n",
      "1300/1300 [==============================] - 11s 9ms/step - loss: 0.2956 - accuracy: 0.8940 - val_loss: 2.2603 - val_accuracy: 0.5008\n",
      "Epoch 17/20\n",
      "1300/1300 [==============================] - 12s 9ms/step - loss: 0.2860 - accuracy: 0.8974 - val_loss: 2.3661 - val_accuracy: 0.5008\n",
      "Epoch 18/20\n",
      "1300/1300 [==============================] - 12s 9ms/step - loss: 0.2633 - accuracy: 0.9092 - val_loss: 2.2554 - val_accuracy: 0.5045\n",
      "Epoch 19/20\n",
      "1300/1300 [==============================] - 12s 9ms/step - loss: 0.2496 - accuracy: 0.9139 - val_loss: 2.5072 - val_accuracy: 0.5103\n",
      "Epoch 20/20\n",
      "1300/1300 [==============================] - 12s 9ms/step - loss: 0.2436 - accuracy: 0.9183 - val_loss: 2.8222 - val_accuracy: 0.5503\n"
     ]
    },
    {
     "data": {
      "text/plain": [
       "<keras.src.callbacks.History at 0x70906ccdec10>"
      ]
     },
     "execution_count": 59,
     "metadata": {},
     "output_type": "execute_result"
    }
   ],
   "source": [
    "model = Sequential()\n",
    "model.add(Conv1D(filters=64, kernel_size=6, activation='relu', \n",
    "                padding='same', input_shape=(4, 1000)))\n",
    "model.add(BatchNormalization())\n",
    "model.add(MaxPooling1D(pool_size=(3), strides=2, padding='same'))\n",
    "model.add(Conv1D(filters=64, kernel_size=6, activation='relu', \n",
    "                padding='same', input_shape=(4, 1000)))\n",
    "model.add(BatchNormalization())\n",
    "model.add(MaxPooling1D(pool_size=(3), strides=2, padding='same'))\n",
    "model.add(Conv1D(filters=64, kernel_size=6, activation='relu', \n",
    "                padding='same', input_shape=(4, 1000)))\n",
    "model.add(BatchNormalization())\n",
    "model.add(MaxPooling1D(pool_size=(3), strides=2, padding='same'))\n",
    "model.add(Flatten())\n",
    "model.add(Dense(64, activation='relu'))\n",
    "model.add(Dense(64, activation='relu'))\n",
    "model.add(Dense(5, activation='softmax'))\n",
    "\n",
    "model.compile(loss='categorical_crossentropy', optimizer=Adam(learning_rate=0.001), metrics=['accuracy'])\n",
    "\n",
    "model.fit(x_train_lead13511, Y_train, batch_size=10, epochs=20, validation_data=(x_test_lead13511, Y_test))"
   ]
  },
  {
   "cell_type": "code",
   "execution_count": 60,
   "metadata": {},
   "outputs": [
    {
     "name": "stdout",
     "output_type": "stream",
     "text": [
      "102/102 [==============================] - 1s 5ms/step - loss: 2.8222 - accuracy: 0.5503\n",
      "Test loss: 2.8222031593322754\n",
      "Test accuracy: 0.5503231883049011\n"
     ]
    }
   ],
   "source": [
    "loss, accuracy = model.evaluate(x_test_lead13511, Y_test)\n",
    "print('Test loss:', loss)\n",
    "print('Test accuracy:', accuracy)"
   ]
  },
  {
   "cell_type": "markdown",
   "metadata": {},
   "source": [
    "## Binary classification"
   ]
  },
  {
   "cell_type": "code",
   "execution_count": 106,
   "metadata": {},
   "outputs": [
    {
     "data": {
      "text/plain": [
       "(16244,)"
      ]
     },
     "execution_count": 106,
     "metadata": {},
     "output_type": "execute_result"
    }
   ],
   "source": [
    "Y_binary = labels_binary\n",
    "Y_binary = np.array(labels_binary)\n",
    "Y_binary.shape"
   ]
  },
  {
   "cell_type": "code",
   "execution_count": 108,
   "metadata": {},
   "outputs": [],
   "source": [
    "X_train_binary, X_test_binary,  Y_train_binary, Y_test_binary = train_test_split(X, Y_binary, test_size=0.2, random_state=42)"
   ]
  },
  {
   "cell_type": "code",
   "execution_count": 120,
   "metadata": {},
   "outputs": [
    {
     "name": "stdout",
     "output_type": "stream",
     "text": [
      "(12995, 12, 1000)\n",
      "(12995,)\n"
     ]
    },
    {
     "data": {
      "text/plain": [
       "array([1, 1, 0, ..., 1, 1, 1])"
      ]
     },
     "execution_count": 120,
     "metadata": {},
     "output_type": "execute_result"
    }
   ],
   "source": [
    "print(X_train_binary.shape)\n",
    "print(Y_train_binary.shape)"
   ]
  },
  {
   "cell_type": "code",
   "execution_count": 117,
   "metadata": {},
   "outputs": [],
   "source": [
    "X_train_binary_lead0 = X_train_binary[:, [1, 3, 5, 11], :]\n",
    "X_test_binary_lead0 = X_test_binary[:, 0, :]"
   ]
  },
  {
   "cell_type": "code",
   "execution_count": 115,
   "metadata": {},
   "outputs": [],
   "source": [
    "modelBinary = Sequential([\n",
    "        Conv1D(64, 3, activation='sigmoid', input_shape=(4, 1000), padding='same'),\n",
    "        MaxPooling1D(2),\n",
    "        Dropout(0.3),\n",
    "        Conv1D(128, 3, activation='sigmoid', padding='same'),\n",
    "        MaxPooling1D(2),\n",
    "        Conv1D(256, 3, activation='sigmoid', padding='same'),\n",
    "        Dropout(0.3),\n",
    "        GlobalAveragePooling1D(),\n",
    "        Dense(128, activation='sigmoid'),\n",
    "        Dropout(0.3),\n",
    "        Dense(1, activation='sigmoid')  \n",
    "    ])\n"
   ]
  },
  {
   "cell_type": "code",
   "execution_count": 116,
   "metadata": {},
   "outputs": [],
   "source": [
    "modelBinary.compile(optimizer=Adam(learning_rate=0.001), loss='binary_crossentropy', metrics='accuracy')"
   ]
  },
  {
   "cell_type": "code",
   "execution_count": 130,
   "metadata": {},
   "outputs": [
    {
     "name": "stdout",
     "output_type": "stream",
     "text": [
      "Epoch 1/10\n",
      "407/407 [==============================] - 9s 16ms/step - loss: 0.6860 - accuracy: 0.5601 - val_loss: 0.6879 - val_accuracy: 0.5512\n",
      "Epoch 2/10\n",
      "407/407 [==============================] - 6s 15ms/step - loss: 0.6863 - accuracy: 0.5601 - val_loss: 0.6879 - val_accuracy: 0.5512\n",
      "Epoch 3/10\n",
      "407/407 [==============================] - 6s 15ms/step - loss: 0.6864 - accuracy: 0.5601 - val_loss: 0.6879 - val_accuracy: 0.5512\n",
      "Epoch 4/10\n",
      "407/407 [==============================] - 6s 15ms/step - loss: 0.6863 - accuracy: 0.5601 - val_loss: 0.6879 - val_accuracy: 0.5512\n",
      "Epoch 5/10\n",
      "407/407 [==============================] - 6s 15ms/step - loss: 0.6863 - accuracy: 0.5601 - val_loss: 0.6879 - val_accuracy: 0.5512\n",
      "Epoch 6/10\n",
      "407/407 [==============================] - 6s 16ms/step - loss: 0.6859 - accuracy: 0.5601 - val_loss: 0.6879 - val_accuracy: 0.5512\n",
      "Epoch 7/10\n",
      "407/407 [==============================] - 6s 16ms/step - loss: 0.6862 - accuracy: 0.5601 - val_loss: 0.6879 - val_accuracy: 0.5512\n",
      "Epoch 8/10\n",
      "407/407 [==============================] - 6s 16ms/step - loss: 0.6861 - accuracy: 0.5601 - val_loss: 0.6886 - val_accuracy: 0.5512\n",
      "Epoch 9/10\n",
      "407/407 [==============================] - 6s 16ms/step - loss: 0.6861 - accuracy: 0.5601 - val_loss: 0.6879 - val_accuracy: 0.5512\n",
      "Epoch 10/10\n",
      "407/407 [==============================] - 6s 15ms/step - loss: 0.6860 - accuracy: 0.5601 - val_loss: 0.6882 - val_accuracy: 0.5512\n"
     ]
    },
    {
     "data": {
      "text/plain": [
       "<keras.src.callbacks.History at 0x708f20543390>"
      ]
     },
     "execution_count": 130,
     "metadata": {},
     "output_type": "execute_result"
    }
   ],
   "source": [
    "# with tf.device('/cpu:0'):\n",
    "modelBinary.fit(X_train_binary_lead0, Y_train_binary, epochs=10, batch_size=32, validation_data=(X_test_binary_lead0, Y_test_binary))"
   ]
  },
  {
   "cell_type": "code",
   "execution_count": 5,
   "metadata": {},
   "outputs": [
    {
     "ename": "NameError",
     "evalue": "name 'x_train' is not defined",
     "output_type": "error",
     "traceback": [
      "\u001b[0;31m---------------------------------------------------------------------------\u001b[0m",
      "\u001b[0;31mNameError\u001b[0m                                 Traceback (most recent call last)",
      "Cell \u001b[0;32mIn[5], line 1\u001b[0m\n\u001b[0;32m----> 1\u001b[0m \u001b[43mx_train\u001b[49m\u001b[38;5;241m.\u001b[39mshape\n",
      "\u001b[0;31mNameError\u001b[0m: name 'x_train' is not defined"
     ]
    }
   ],
   "source": [
    "x_train.shape"
   ]
  },
  {
   "cell_type": "code",
   "execution_count": 4,
   "metadata": {},
   "outputs": [
    {
     "ename": "NameError",
     "evalue": "name 'Sequential' is not defined",
     "output_type": "error",
     "traceback": [
      "\u001b[0;31m---------------------------------------------------------------------------\u001b[0m",
      "\u001b[0;31mNameError\u001b[0m                                 Traceback (most recent call last)",
      "Cell \u001b[0;32mIn[4], line 2\u001b[0m\n\u001b[1;32m      1\u001b[0m input_shape \u001b[38;5;241m=\u001b[39m (\u001b[38;5;241m12\u001b[39m, \u001b[38;5;241m1002\u001b[39m)\n\u001b[0;32m----> 2\u001b[0m model \u001b[38;5;241m=\u001b[39m \u001b[43mSequential\u001b[49m([\n\u001b[1;32m      3\u001b[0m     Conv1D(\u001b[38;5;241m64\u001b[39m, \u001b[38;5;241m3\u001b[39m, activation\u001b[38;5;241m=\u001b[39m\u001b[38;5;124m'\u001b[39m\u001b[38;5;124msigmoid\u001b[39m\u001b[38;5;124m'\u001b[39m, input_shape\u001b[38;5;241m=\u001b[39minput_shape, padding\u001b[38;5;241m=\u001b[39m\u001b[38;5;124m'\u001b[39m\u001b[38;5;124msame\u001b[39m\u001b[38;5;124m'\u001b[39m),\n\u001b[1;32m      4\u001b[0m     MaxPooling1D(\u001b[38;5;241m2\u001b[39m),\n\u001b[1;32m      5\u001b[0m     Dropout(\u001b[38;5;241m0.3\u001b[39m),\n\u001b[1;32m      6\u001b[0m     Conv1D(\u001b[38;5;241m128\u001b[39m, \u001b[38;5;241m3\u001b[39m, activation\u001b[38;5;241m=\u001b[39m\u001b[38;5;124m'\u001b[39m\u001b[38;5;124msigmoid\u001b[39m\u001b[38;5;124m'\u001b[39m, padding\u001b[38;5;241m=\u001b[39m\u001b[38;5;124m'\u001b[39m\u001b[38;5;124msame\u001b[39m\u001b[38;5;124m'\u001b[39m),\n\u001b[1;32m      7\u001b[0m     MaxPooling1D(\u001b[38;5;241m2\u001b[39m),\n\u001b[1;32m      8\u001b[0m     Conv1D(\u001b[38;5;241m256\u001b[39m, \u001b[38;5;241m3\u001b[39m, activation\u001b[38;5;241m=\u001b[39m\u001b[38;5;124m'\u001b[39m\u001b[38;5;124msigmoid\u001b[39m\u001b[38;5;124m'\u001b[39m, padding\u001b[38;5;241m=\u001b[39m\u001b[38;5;124m'\u001b[39m\u001b[38;5;124msame\u001b[39m\u001b[38;5;124m'\u001b[39m),\n\u001b[1;32m      9\u001b[0m     Dropout(\u001b[38;5;241m0.3\u001b[39m),\n\u001b[1;32m     10\u001b[0m     GlobalAveragePooling1D(),\n\u001b[1;32m     11\u001b[0m     Dense(\u001b[38;5;241m128\u001b[39m, activation\u001b[38;5;241m=\u001b[39m\u001b[38;5;124m'\u001b[39m\u001b[38;5;124msigmoid\u001b[39m\u001b[38;5;124m'\u001b[39m),\n\u001b[1;32m     12\u001b[0m     Dropout(\u001b[38;5;241m0.3\u001b[39m),\n\u001b[1;32m     13\u001b[0m     Dense(\u001b[38;5;241m1\u001b[39m, activation\u001b[38;5;241m=\u001b[39m\u001b[38;5;124m'\u001b[39m\u001b[38;5;124msigmoid\u001b[39m\u001b[38;5;124m'\u001b[39m)  \n\u001b[1;32m     14\u001b[0m ])\n\u001b[1;32m     16\u001b[0m model\u001b[38;5;241m.\u001b[39mcompile(optimizer\u001b[38;5;241m=\u001b[39mAdam(learning_rate\u001b[38;5;241m=\u001b[39m\u001b[38;5;241m0.001\u001b[39m), loss\u001b[38;5;241m=\u001b[39m\u001b[38;5;124m'\u001b[39m\u001b[38;5;124mbinary_crossentropy\u001b[39m\u001b[38;5;124m'\u001b[39m, metrics\u001b[38;5;241m=\u001b[39m\u001b[38;5;124m'\u001b[39m\u001b[38;5;124maccuracy\u001b[39m\u001b[38;5;124m'\u001b[39m)\n\u001b[1;32m     17\u001b[0m model\u001b[38;5;241m.\u001b[39mfit(X_train, Y_train_binary, epochs\u001b[38;5;241m=\u001b[39m\u001b[38;5;241m20\u001b[39m, batch_size\u001b[38;5;241m=\u001b[39m\u001b[38;5;241m32\u001b[39m, validation_data\u001b[38;5;241m=\u001b[39m(X_test, Y_test))\n",
      "\u001b[0;31mNameError\u001b[0m: name 'Sequential' is not defined"
     ]
    }
   ],
   "source": [
    "model = Sequential([\n",
    "    Conv1D(64, 3, activation='sigmoid', input_shape=, padding='same'),\n",
    "    MaxPooling1D(2),\n",
    "    Dropout(0.3),\n",
    "    Conv1D(128, 3, activation='sigmoid', padding='same'),\n",
    "    MaxPooling1D(2),\n",
    "    Conv1D(256, 3, activation='sigmoid', padding='same'),\n",
    "    Dropout(0.3),\n",
    "    GlobalAveragePooling1D(),\n",
    "    Dense(128, activation='sigmoid'),\n",
    "    Dropout(0.3),\n",
    "    Dense(1, activation='sigmoid')  \n",
    "])\n",
    "\n",
    "model.compile(optimizer=Adam(learning_rate=0.001), loss='binary_crossentropy', metrics='accuracy')\n",
    "model.fit(X_train, Y_train_binary, epochs=20, batch_size=32, validation_data=(X_test, Y_test))"
   ]
  }
 ],
 "metadata": {
  "kernelspec": {
   "display_name": "venv",
   "language": "python",
   "name": "python3"
  },
  "language_info": {
   "codemirror_mode": {
    "name": "ipython",
    "version": 3
   },
   "file_extension": ".py",
   "mimetype": "text/x-python",
   "name": "python",
   "nbconvert_exporter": "python",
   "pygments_lexer": "ipython3",
   "version": "3.11.7"
  }
 },
 "nbformat": 4,
 "nbformat_minor": 2
}
